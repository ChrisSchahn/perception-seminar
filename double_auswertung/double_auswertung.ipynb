{
 "cells": [
  {
   "cell_type": "markdown",
   "metadata": {},
   "source": [
    "# Beispiel Auswertung\n",
    "### Daten: Gruppe von Dominik B\n",
    "\n",
    "### Seminar "
   ]
  },
  {
   "cell_type": "code",
   "execution_count": 48,
   "metadata": {
    "scrolled": true
   },
   "outputs": [],
   "source": [
    "import pandas as pd    # module to work with data in DataFrames.\n",
    "import numpy as np\n",
    "import seaborn as sns  # module to plot DataFrames in an easy way\n",
    "import matplotlib.pyplot as plt"
   ]
  },
  {
   "cell_type": "code",
   "execution_count": 49,
   "metadata": {},
   "outputs": [],
   "source": [
    "# seaborn comes with default presets (called 'contents') for figure's aesthetics, \n",
    "# such as the font size, figure size etc. \n",
    "sns.set_context('talk') # try: 'talk', 'poster', 'notebook'"
   ]
  },
  {
   "cell_type": "code",
   "execution_count": 50,
   "metadata": {},
   "outputs": [],
   "source": [
    "def add_name_and_response(df, name):\n",
    "    image_name = df['image_a'].str.split(\"_\", n = 1, expand = True)[0]\n",
    "    df.insert(1, 'name', image_name)\n",
    "    df['observer'] = name\n",
    "    return df\n",
    "    "
   ]
  },
  {
   "cell_type": "code",
   "execution_count": 67,
   "metadata": {},
   "outputs": [],
   "source": [
    "# we read the data\n",
    "chris = pd.read_csv('pair_results/chris_pair_result_1.csv')\n",
    "clemens = pd.read_csv('pair_results/clemens_pair_result_1.csv')\n",
    "daniel = pd.read_csv('pair_results/daniel_pair_result_2.csv')\n",
    "jenny = pd.read_csv('pair_results/jenny_pair_result_1.csv')\n",
    "katja = pd.read_csv('pair_results/katja_pair_result_1.csv')\n",
    "laurenz = pd.read_csv('pair_results/laurenz_pair_result_1.csv')\n",
    "paul = pd.read_csv('pair_results/paul_pair_result_1.csv')\n",
    "dominik = pd.read_csv('pair_results/dominik_pair_result_1.csv')\n",
    "\n",
    "df1 = add_name_and_response(chris, 'Chris')\n",
    "df2 = add_name_and_response(clemens, 'Clemens')\n",
    "df3 = add_name_and_response(daniel, 'Daniel')\n",
    "df4 = add_name_and_response(jenny, 'Jenny')\n",
    "df5 = add_name_and_response(katja, 'Katja')\n",
    "df6 = add_name_and_response(laurenz, 'Laurenz')\n",
    "df7 = add_name_and_response(paul, 'Paul')\n",
    "df8 = add_name_and_response(dominik, 'Dominik')\n",
    "\n",
    "df = pd.concat((df1, df2, df3, df4, df5, df6, df7, df8))\n",
    "\n",
    "\n",
    "\n",
    "# if we have more observers we could read their files, assign the column observer \n",
    "# with their name, and concatenate the DataFrames with pd.concat(). Example:\n",
    "# df1 = pd.read_csv('Person1.csv')\n",
    "# df1['observer'] = 'Person1'      # creates a new column called 'observer'\n",
    "# df2 = pd.read_csv('Person2.csv') # reads second file\n",
    "# df2['observer'] = 'Person2'     \n",
    "# df = pd.concat((df, df2))        # concatenates both dataframes in one\n"
   ]
  },
  {
   "cell_type": "code",
   "execution_count": 68,
   "metadata": {},
   "outputs": [
    {
     "data": {
      "text/html": [
       "<div>\n",
       "<style scoped>\n",
       "    .dataframe tbody tr th:only-of-type {\n",
       "        vertical-align: middle;\n",
       "    }\n",
       "\n",
       "    .dataframe tbody tr th {\n",
       "        vertical-align: top;\n",
       "    }\n",
       "\n",
       "    .dataframe thead th {\n",
       "        text-align: right;\n",
       "    }\n",
       "</style>\n",
       "<table border=\"1\" class=\"dataframe\">\n",
       "  <thead>\n",
       "    <tr style=\"text-align: right;\">\n",
       "      <th></th>\n",
       "      <th>usage</th>\n",
       "      <th>name</th>\n",
       "      <th>image_a</th>\n",
       "      <th>image_b</th>\n",
       "      <th>f_a_og</th>\n",
       "      <th>f_b_og</th>\n",
       "      <th>f_a</th>\n",
       "      <th>f_b</th>\n",
       "      <th>i_a</th>\n",
       "      <th>i_b</th>\n",
       "      <th>chosen_f_og</th>\n",
       "      <th>chosen_f</th>\n",
       "      <th>chosen_i</th>\n",
       "      <th>left_right</th>\n",
       "      <th>resptime</th>\n",
       "      <th>observer</th>\n",
       "    </tr>\n",
       "  </thead>\n",
       "  <tbody>\n",
       "    <tr>\n",
       "      <th>0</th>\n",
       "      <td>no</td>\n",
       "      <td>Girl1</td>\n",
       "      <td>Girl1_Juno_25.jpg</td>\n",
       "      <td>Girl1_Juno_75.jpg</td>\n",
       "      <td>Juno</td>\n",
       "      <td>Juno</td>\n",
       "      <td>Juno</td>\n",
       "      <td>Juno</td>\n",
       "      <td>25</td>\n",
       "      <td>75</td>\n",
       "      <td>Juno</td>\n",
       "      <td>Juno</td>\n",
       "      <td>25</td>\n",
       "      <td>left</td>\n",
       "      <td>2.923060</td>\n",
       "      <td>Chris</td>\n",
       "    </tr>\n",
       "    <tr>\n",
       "      <th>1</th>\n",
       "      <td>no</td>\n",
       "      <td>Girl1</td>\n",
       "      <td>Girl1_Lark_75.jpg</td>\n",
       "      <td>Girl1_Lark_100.jpg</td>\n",
       "      <td>Lark</td>\n",
       "      <td>Lark</td>\n",
       "      <td>Lark</td>\n",
       "      <td>Lark</td>\n",
       "      <td>75</td>\n",
       "      <td>100</td>\n",
       "      <td>Lark</td>\n",
       "      <td>Lark</td>\n",
       "      <td>75</td>\n",
       "      <td>left</td>\n",
       "      <td>2.233567</td>\n",
       "      <td>Chris</td>\n",
       "    </tr>\n",
       "    <tr>\n",
       "      <th>2</th>\n",
       "      <td>no</td>\n",
       "      <td>Girl2</td>\n",
       "      <td>Girl2_Juno_50.jpg</td>\n",
       "      <td>Girl2_Lark_100.jpg</td>\n",
       "      <td>Juno</td>\n",
       "      <td>Lark</td>\n",
       "      <td>Juno</td>\n",
       "      <td>Lark</td>\n",
       "      <td>50</td>\n",
       "      <td>100</td>\n",
       "      <td>Juno</td>\n",
       "      <td>Juno</td>\n",
       "      <td>50</td>\n",
       "      <td>left</td>\n",
       "      <td>2.932838</td>\n",
       "      <td>Chris</td>\n",
       "    </tr>\n",
       "    <tr>\n",
       "      <th>3</th>\n",
       "      <td>no</td>\n",
       "      <td>Girl2</td>\n",
       "      <td>Girl2_OG.jpg</td>\n",
       "      <td>Girl2_Clarendon_50.jpg</td>\n",
       "      <td>OG</td>\n",
       "      <td>Clarendon</td>\n",
       "      <td>Clarendon</td>\n",
       "      <td>Clarendon</td>\n",
       "      <td>0</td>\n",
       "      <td>50</td>\n",
       "      <td>Clarendon</td>\n",
       "      <td>Clarendon</td>\n",
       "      <td>50</td>\n",
       "      <td>right</td>\n",
       "      <td>1.614858</td>\n",
       "      <td>Chris</td>\n",
       "    </tr>\n",
       "    <tr>\n",
       "      <th>4</th>\n",
       "      <td>no</td>\n",
       "      <td>Girl1</td>\n",
       "      <td>Girl1_Lark_50.jpg</td>\n",
       "      <td>Girl1_Clarendon_100.jpg</td>\n",
       "      <td>Lark</td>\n",
       "      <td>Clarendon</td>\n",
       "      <td>Lark</td>\n",
       "      <td>Clarendon</td>\n",
       "      <td>50</td>\n",
       "      <td>100</td>\n",
       "      <td>Lark</td>\n",
       "      <td>Lark</td>\n",
       "      <td>50</td>\n",
       "      <td>left</td>\n",
       "      <td>1.464137</td>\n",
       "      <td>Chris</td>\n",
       "    </tr>\n",
       "  </tbody>\n",
       "</table>\n",
       "</div>"
      ],
      "text/plain": [
       "  usage   name            image_a                  image_b f_a_og     f_b_og  \\\n",
       "0    no  Girl1  Girl1_Juno_25.jpg        Girl1_Juno_75.jpg   Juno       Juno   \n",
       "1    no  Girl1  Girl1_Lark_75.jpg       Girl1_Lark_100.jpg   Lark       Lark   \n",
       "2    no  Girl2  Girl2_Juno_50.jpg       Girl2_Lark_100.jpg   Juno       Lark   \n",
       "3    no  Girl2       Girl2_OG.jpg   Girl2_Clarendon_50.jpg     OG  Clarendon   \n",
       "4    no  Girl1  Girl1_Lark_50.jpg  Girl1_Clarendon_100.jpg   Lark  Clarendon   \n",
       "\n",
       "         f_a        f_b  i_a  i_b chosen_f_og   chosen_f  chosen_i left_right  \\\n",
       "0       Juno       Juno   25   75        Juno       Juno        25       left   \n",
       "1       Lark       Lark   75  100        Lark       Lark        75       left   \n",
       "2       Juno       Lark   50  100        Juno       Juno        50       left   \n",
       "3  Clarendon  Clarendon    0   50   Clarendon  Clarendon        50      right   \n",
       "4       Lark  Clarendon   50  100        Lark       Lark        50       left   \n",
       "\n",
       "   resptime observer  \n",
       "0  2.923060    Chris  \n",
       "1  2.233567    Chris  \n",
       "2  2.932838    Chris  \n",
       "3  1.614858    Chris  \n",
       "4  1.464137    Chris  "
      ]
     },
     "execution_count": 68,
     "metadata": {},
     "output_type": "execute_result"
    }
   ],
   "source": [
    "# explore the first entries in your data\n",
    "df.head()"
   ]
  },
  {
   "cell_type": "code",
   "execution_count": 69,
   "metadata": {},
   "outputs": [
    {
     "name": "stdout",
     "output_type": "stream",
     "text": [
      "['Girl1' 'Girl2']\n"
     ]
    }
   ],
   "source": [
    "# sanity checks: how many groups do you expect per categorical variable?\n",
    "# in these data we expect :\n",
    "# 5 different k values\n",
    "print(df['name'].unique())"
   ]
  },
  {
   "cell_type": "code",
   "execution_count": 70,
   "metadata": {},
   "outputs": [
    {
     "name": "stdout",
     "output_type": "stream",
     "text": [
      "['Chris' 'Clemens' 'Daniel' 'Jenny' 'Katja' 'Laurenz' 'Paul' 'Dominik']\n"
     ]
    }
   ],
   "source": [
    "# 5 different g values\n",
    "print(df['observer'].unique())\n"
   ]
  },
  {
   "cell_type": "code",
   "execution_count": 71,
   "metadata": {},
   "outputs": [
    {
     "ename": "KeyError",
     "evalue": "'response'",
     "output_type": "error",
     "traceback": [
      "\u001b[0;31m---------------------------------------------------------------------------\u001b[0m",
      "\u001b[0;31mKeyError\u001b[0m                                  Traceback (most recent call last)",
      "\u001b[0;32m~/opt/anaconda3/envs/pyML/lib/python3.8/site-packages/pandas/core/indexes/base.py\u001b[0m in \u001b[0;36mget_loc\u001b[0;34m(self, key, method, tolerance)\u001b[0m\n\u001b[1;32m   2894\u001b[0m             \u001b[0;32mtry\u001b[0m\u001b[0;34m:\u001b[0m\u001b[0;34m\u001b[0m\u001b[0;34m\u001b[0m\u001b[0m\n\u001b[0;32m-> 2895\u001b[0;31m                 \u001b[0;32mreturn\u001b[0m \u001b[0mself\u001b[0m\u001b[0;34m.\u001b[0m\u001b[0m_engine\u001b[0m\u001b[0;34m.\u001b[0m\u001b[0mget_loc\u001b[0m\u001b[0;34m(\u001b[0m\u001b[0mcasted_key\u001b[0m\u001b[0;34m)\u001b[0m\u001b[0;34m\u001b[0m\u001b[0;34m\u001b[0m\u001b[0m\n\u001b[0m\u001b[1;32m   2896\u001b[0m             \u001b[0;32mexcept\u001b[0m \u001b[0mKeyError\u001b[0m \u001b[0;32mas\u001b[0m \u001b[0merr\u001b[0m\u001b[0;34m:\u001b[0m\u001b[0;34m\u001b[0m\u001b[0;34m\u001b[0m\u001b[0m\n",
      "\u001b[0;32mpandas/_libs/index.pyx\u001b[0m in \u001b[0;36mpandas._libs.index.IndexEngine.get_loc\u001b[0;34m()\u001b[0m\n",
      "\u001b[0;32mpandas/_libs/index.pyx\u001b[0m in \u001b[0;36mpandas._libs.index.IndexEngine.get_loc\u001b[0;34m()\u001b[0m\n",
      "\u001b[0;32mpandas/_libs/hashtable_class_helper.pxi\u001b[0m in \u001b[0;36mpandas._libs.hashtable.PyObjectHashTable.get_item\u001b[0;34m()\u001b[0m\n",
      "\u001b[0;32mpandas/_libs/hashtable_class_helper.pxi\u001b[0m in \u001b[0;36mpandas._libs.hashtable.PyObjectHashTable.get_item\u001b[0;34m()\u001b[0m\n",
      "\u001b[0;31mKeyError\u001b[0m: 'response'",
      "\nThe above exception was the direct cause of the following exception:\n",
      "\u001b[0;31mKeyError\u001b[0m                                  Traceback (most recent call last)",
      "\u001b[0;32m<ipython-input-71-49d727c33ff2>\u001b[0m in \u001b[0;36m<module>\u001b[0;34m\u001b[0m\n\u001b[1;32m      1\u001b[0m \u001b[0;31m# 15 different pictures\u001b[0m\u001b[0;34m\u001b[0m\u001b[0;34m\u001b[0m\u001b[0;34m\u001b[0m\u001b[0m\n\u001b[0;32m----> 2\u001b[0;31m \u001b[0mprint\u001b[0m\u001b[0;34m(\u001b[0m\u001b[0mdf\u001b[0m\u001b[0;34m[\u001b[0m\u001b[0;34m'response'\u001b[0m\u001b[0;34m]\u001b[0m\u001b[0;34m.\u001b[0m\u001b[0munique\u001b[0m\u001b[0;34m(\u001b[0m\u001b[0;34m)\u001b[0m\u001b[0;34m)\u001b[0m\u001b[0;34m\u001b[0m\u001b[0;34m\u001b[0m\u001b[0m\n\u001b[0m",
      "\u001b[0;32m~/opt/anaconda3/envs/pyML/lib/python3.8/site-packages/pandas/core/frame.py\u001b[0m in \u001b[0;36m__getitem__\u001b[0;34m(self, key)\u001b[0m\n\u001b[1;32m   2900\u001b[0m             \u001b[0;32mif\u001b[0m \u001b[0mself\u001b[0m\u001b[0;34m.\u001b[0m\u001b[0mcolumns\u001b[0m\u001b[0;34m.\u001b[0m\u001b[0mnlevels\u001b[0m \u001b[0;34m>\u001b[0m \u001b[0;36m1\u001b[0m\u001b[0;34m:\u001b[0m\u001b[0;34m\u001b[0m\u001b[0;34m\u001b[0m\u001b[0m\n\u001b[1;32m   2901\u001b[0m                 \u001b[0;32mreturn\u001b[0m \u001b[0mself\u001b[0m\u001b[0;34m.\u001b[0m\u001b[0m_getitem_multilevel\u001b[0m\u001b[0;34m(\u001b[0m\u001b[0mkey\u001b[0m\u001b[0;34m)\u001b[0m\u001b[0;34m\u001b[0m\u001b[0;34m\u001b[0m\u001b[0m\n\u001b[0;32m-> 2902\u001b[0;31m             \u001b[0mindexer\u001b[0m \u001b[0;34m=\u001b[0m \u001b[0mself\u001b[0m\u001b[0;34m.\u001b[0m\u001b[0mcolumns\u001b[0m\u001b[0;34m.\u001b[0m\u001b[0mget_loc\u001b[0m\u001b[0;34m(\u001b[0m\u001b[0mkey\u001b[0m\u001b[0;34m)\u001b[0m\u001b[0;34m\u001b[0m\u001b[0;34m\u001b[0m\u001b[0m\n\u001b[0m\u001b[1;32m   2903\u001b[0m             \u001b[0;32mif\u001b[0m \u001b[0mis_integer\u001b[0m\u001b[0;34m(\u001b[0m\u001b[0mindexer\u001b[0m\u001b[0;34m)\u001b[0m\u001b[0;34m:\u001b[0m\u001b[0;34m\u001b[0m\u001b[0;34m\u001b[0m\u001b[0m\n\u001b[1;32m   2904\u001b[0m                 \u001b[0mindexer\u001b[0m \u001b[0;34m=\u001b[0m \u001b[0;34m[\u001b[0m\u001b[0mindexer\u001b[0m\u001b[0;34m]\u001b[0m\u001b[0;34m\u001b[0m\u001b[0;34m\u001b[0m\u001b[0m\n",
      "\u001b[0;32m~/opt/anaconda3/envs/pyML/lib/python3.8/site-packages/pandas/core/indexes/base.py\u001b[0m in \u001b[0;36mget_loc\u001b[0;34m(self, key, method, tolerance)\u001b[0m\n\u001b[1;32m   2895\u001b[0m                 \u001b[0;32mreturn\u001b[0m \u001b[0mself\u001b[0m\u001b[0;34m.\u001b[0m\u001b[0m_engine\u001b[0m\u001b[0;34m.\u001b[0m\u001b[0mget_loc\u001b[0m\u001b[0;34m(\u001b[0m\u001b[0mcasted_key\u001b[0m\u001b[0;34m)\u001b[0m\u001b[0;34m\u001b[0m\u001b[0;34m\u001b[0m\u001b[0m\n\u001b[1;32m   2896\u001b[0m             \u001b[0;32mexcept\u001b[0m \u001b[0mKeyError\u001b[0m \u001b[0;32mas\u001b[0m \u001b[0merr\u001b[0m\u001b[0;34m:\u001b[0m\u001b[0;34m\u001b[0m\u001b[0;34m\u001b[0m\u001b[0m\n\u001b[0;32m-> 2897\u001b[0;31m                 \u001b[0;32mraise\u001b[0m \u001b[0mKeyError\u001b[0m\u001b[0;34m(\u001b[0m\u001b[0mkey\u001b[0m\u001b[0;34m)\u001b[0m \u001b[0;32mfrom\u001b[0m \u001b[0merr\u001b[0m\u001b[0;34m\u001b[0m\u001b[0;34m\u001b[0m\u001b[0m\n\u001b[0m\u001b[1;32m   2898\u001b[0m \u001b[0;34m\u001b[0m\u001b[0m\n\u001b[1;32m   2899\u001b[0m         \u001b[0;32mif\u001b[0m \u001b[0mtolerance\u001b[0m \u001b[0;32mis\u001b[0m \u001b[0;32mnot\u001b[0m \u001b[0;32mNone\u001b[0m\u001b[0;34m:\u001b[0m\u001b[0;34m\u001b[0m\u001b[0;34m\u001b[0m\u001b[0m\n",
      "\u001b[0;31mKeyError\u001b[0m: 'response'"
     ]
    }
   ],
   "source": [
    "# 15 different pictures\n",
    "print(df['response'].unique())"
   ]
  },
  {
   "cell_type": "code",
   "execution_count": 72,
   "metadata": {},
   "outputs": [
    {
     "name": "stdout",
     "output_type": "stream",
     "text": [
      "               usage  name  image_a  image_b  f_a_og  f_b_og  f_b  i_b  \\\n",
      "f_a       i_a                                                            \n",
      "Clarendon 0       32    32       32       32      32      32   32   32   \n",
      "          25      56    56       56       56      56      56   56   56   \n",
      "          50      98    98       98       98      98      98   98   98   \n",
      "          75     100   100      100      100     100     100  100  100   \n",
      "          100    114   114      114      114     114     114  114  114   \n",
      "Juno      0       38    38       38       38      38      38   38   38   \n",
      "          25      98    98       98       98      98      98   98   98   \n",
      "          50     102   102      102      102     102     102  102  102   \n",
      "          75      86    86       86       86      86      86   86   86   \n",
      "          100    100   100      100      100     100     100  100  100   \n",
      "Lark      0       42    42       42       42      42      42   42   42   \n",
      "          25      86    86       86       86      86      86   86   86   \n",
      "          50      94    94       94       94      94      94   94   94   \n",
      "          75     124   124      124      124     124     124  124  124   \n",
      "          100     78    78       78       78      78      78   78   78   \n",
      "\n",
      "               chosen_f_og  chosen_f  chosen_i  left_right  resptime  observer  \n",
      "f_a       i_a                                                                   \n",
      "Clarendon 0             32        32        32          32        32        32  \n",
      "          25            56        56        56          56        56        56  \n",
      "          50            98        98        98          98        98        98  \n",
      "          75           100       100       100         100       100       100  \n",
      "          100          114       114       114         114       114       114  \n",
      "Juno      0             38        38        38          38        38        38  \n",
      "          25            98        98        98          98        98        98  \n",
      "          50           102       102       102         102       102       102  \n",
      "          75            86        86        86          86        86        86  \n",
      "          100          100       100       100         100       100       100  \n",
      "Lark      0             42        42        42          42        42        42  \n",
      "          25            86        86        86          86        86        86  \n",
      "          50            94        94        94          94        94        94  \n",
      "          75           124       124       124         124       124       124  \n",
      "          100           78        78        78          78        78        78  \n",
      "15\n"
     ]
    }
   ],
   "source": [
    "# we expect 5x5=25 different rows of possible k, g combinations\n",
    "agg1 = df.groupby(['f_a', 'i_a']).count()\n",
    "\n",
    "print(agg1)\n",
    "print(len(agg1))"
   ]
  },
  {
   "cell_type": "code",
   "execution_count": 73,
   "metadata": {},
   "outputs": [],
   "source": [
    "# !! we only obtain 24 different rows.. \n",
    "# !! because k=1.0 and g=1.0 was not presented ...-> original?"
   ]
  },
  {
   "cell_type": "code",
   "execution_count": 74,
   "metadata": {},
   "outputs": [
    {
     "name": "stdout",
     "output_type": "stream",
     "text": [
      "30\n"
     ]
    }
   ],
   "source": [
    "# and 24 x 15 pictures = 360  different types of trials\n",
    "agg2 = df.groupby(['f_a', 'i_a', 'image_a']).count()\n",
    "print(len(agg2))"
   ]
  },
  {
   "cell_type": "code",
   "execution_count": 61,
   "metadata": {},
   "outputs": [
    {
     "name": "stdout",
     "output_type": "stream",
     "text": [
      "                                       usage  name  image_b  f_a_og  f_b_og  \\\n",
      "f_a       i_a image_a                                                         \n",
      "Clarendon 0   Girl1_OG.jpg                18    18       18      18      18   \n",
      "              Girl2_OG.jpg                14    14       14      14      14   \n",
      "          25  Girl1_Clarendon_25.jpg      28    28       28      28      28   \n",
      "              Girl2_Clarendon_25.jpg      28    28       28      28      28   \n",
      "          50  Girl1_Clarendon_50.jpg      46    46       46      46      46   \n",
      "              Girl2_Clarendon_50.jpg      52    52       52      52      52   \n",
      "          75  Girl1_Clarendon_75.jpg      50    50       50      50      50   \n",
      "              Girl2_Clarendon_75.jpg      50    50       50      50      50   \n",
      "          100 Girl1_Clarendon_100.jpg     46    46       46      46      46   \n",
      "              Girl2_Clarendon_100.jpg     68    68       68      68      68   \n",
      "Juno      0   Girl1_OG.jpg                18    18       18      18      18   \n",
      "              Girl2_OG.jpg                20    20       20      20      20   \n",
      "          25  Girl1_Juno_25.jpg           46    46       46      46      46   \n",
      "              Girl2_Juno_25.jpg           52    52       52      52      52   \n",
      "          50  Girl1_Juno_50.jpg           52    52       52      52      52   \n",
      "              Girl2_Juno_50.jpg           50    50       50      50      50   \n",
      "          75  Girl1_Juno_75.jpg           38    38       38      38      38   \n",
      "              Girl2_Juno_75.jpg           48    48       48      48      48   \n",
      "          100 Girl1_Juno_100.jpg          60    60       60      60      60   \n",
      "              Girl2_Juno_100.jpg          40    40       40      40      40   \n",
      "Lark      0   Girl1_OG.jpg                20    20       20      20      20   \n",
      "              Girl2_OG.jpg                22    22       22      22      22   \n",
      "          25  Girl1_Lark_25.jpg           42    42       42      42      42   \n",
      "              Girl2_Lark_25.jpg           44    44       44      44      44   \n",
      "          50  Girl1_Lark_50.jpg           46    46       46      46      46   \n",
      "              Girl2_Lark_50.jpg           48    48       48      48      48   \n",
      "          75  Girl1_Lark_75.jpg           72    72       72      72      72   \n",
      "              Girl2_Lark_75.jpg           52    52       52      52      52   \n",
      "          100 Girl1_Lark_100.jpg          42    42       42      42      42   \n",
      "              Girl2_Lark_100.jpg          36    36       36      36      36   \n",
      "\n",
      "                                       f_b  i_b  chosen_f_og  chosen_f  \\\n",
      "f_a       i_a image_a                                                    \n",
      "Clarendon 0   Girl1_OG.jpg              18   18           18        18   \n",
      "              Girl2_OG.jpg              14   14           14        14   \n",
      "          25  Girl1_Clarendon_25.jpg    28   28           28        28   \n",
      "              Girl2_Clarendon_25.jpg    28   28           28        28   \n",
      "          50  Girl1_Clarendon_50.jpg    46   46           46        46   \n",
      "              Girl2_Clarendon_50.jpg    52   52           52        52   \n",
      "          75  Girl1_Clarendon_75.jpg    50   50           50        50   \n",
      "              Girl2_Clarendon_75.jpg    50   50           50        50   \n",
      "          100 Girl1_Clarendon_100.jpg   46   46           46        46   \n",
      "              Girl2_Clarendon_100.jpg   68   68           68        68   \n",
      "Juno      0   Girl1_OG.jpg              18   18           18        18   \n",
      "              Girl2_OG.jpg              20   20           20        20   \n",
      "          25  Girl1_Juno_25.jpg         46   46           46        46   \n",
      "              Girl2_Juno_25.jpg         52   52           52        52   \n",
      "          50  Girl1_Juno_50.jpg         52   52           52        52   \n",
      "              Girl2_Juno_50.jpg         50   50           50        50   \n",
      "          75  Girl1_Juno_75.jpg         38   38           38        38   \n",
      "              Girl2_Juno_75.jpg         48   48           48        48   \n",
      "          100 Girl1_Juno_100.jpg        60   60           60        60   \n",
      "              Girl2_Juno_100.jpg        40   40           40        40   \n",
      "Lark      0   Girl1_OG.jpg              20   20           20        20   \n",
      "              Girl2_OG.jpg              22   22           22        22   \n",
      "          25  Girl1_Lark_25.jpg         42   42           42        42   \n",
      "              Girl2_Lark_25.jpg         44   44           44        44   \n",
      "          50  Girl1_Lark_50.jpg         46   46           46        46   \n",
      "              Girl2_Lark_50.jpg         48   48           48        48   \n",
      "          75  Girl1_Lark_75.jpg         72   72           72        72   \n",
      "              Girl2_Lark_75.jpg         52   52           52        52   \n",
      "          100 Girl1_Lark_100.jpg        42   42           42        42   \n",
      "              Girl2_Lark_100.jpg        36   36           36        36   \n",
      "\n",
      "                                       chosen_i  left_right  resptime  \\\n",
      "f_a       i_a image_a                                                   \n",
      "Clarendon 0   Girl1_OG.jpg                   18          18        18   \n",
      "              Girl2_OG.jpg                   14          14        14   \n",
      "          25  Girl1_Clarendon_25.jpg         28          28        28   \n",
      "              Girl2_Clarendon_25.jpg         28          28        28   \n",
      "          50  Girl1_Clarendon_50.jpg         46          46        46   \n",
      "              Girl2_Clarendon_50.jpg         52          52        52   \n",
      "          75  Girl1_Clarendon_75.jpg         50          50        50   \n",
      "              Girl2_Clarendon_75.jpg         50          50        50   \n",
      "          100 Girl1_Clarendon_100.jpg        46          46        46   \n",
      "              Girl2_Clarendon_100.jpg        68          68        68   \n",
      "Juno      0   Girl1_OG.jpg                   18          18        18   \n",
      "              Girl2_OG.jpg                   20          20        20   \n",
      "          25  Girl1_Juno_25.jpg              46          46        46   \n",
      "              Girl2_Juno_25.jpg              52          52        52   \n",
      "          50  Girl1_Juno_50.jpg              52          52        52   \n",
      "              Girl2_Juno_50.jpg              50          50        50   \n",
      "          75  Girl1_Juno_75.jpg              38          38        38   \n",
      "              Girl2_Juno_75.jpg              48          48        48   \n",
      "          100 Girl1_Juno_100.jpg             60          60        60   \n",
      "              Girl2_Juno_100.jpg             40          40        40   \n",
      "Lark      0   Girl1_OG.jpg                   20          20        20   \n",
      "              Girl2_OG.jpg                   22          22        22   \n",
      "          25  Girl1_Lark_25.jpg              42          42        42   \n",
      "              Girl2_Lark_25.jpg              44          44        44   \n",
      "          50  Girl1_Lark_50.jpg              46          46        46   \n",
      "              Girl2_Lark_50.jpg              48          48        48   \n",
      "          75  Girl1_Lark_75.jpg              72          72        72   \n",
      "              Girl2_Lark_75.jpg              52          52        52   \n",
      "          100 Girl1_Lark_100.jpg             42          42        42   \n",
      "              Girl2_Lark_100.jpg             36          36        36   \n",
      "\n",
      "                                       observer  \n",
      "f_a       i_a image_a                            \n",
      "Clarendon 0   Girl1_OG.jpg                   18  \n",
      "              Girl2_OG.jpg                   14  \n",
      "          25  Girl1_Clarendon_25.jpg         28  \n",
      "              Girl2_Clarendon_25.jpg         28  \n",
      "          50  Girl1_Clarendon_50.jpg         46  \n",
      "              Girl2_Clarendon_50.jpg         52  \n",
      "          75  Girl1_Clarendon_75.jpg         50  \n",
      "              Girl2_Clarendon_75.jpg         50  \n",
      "          100 Girl1_Clarendon_100.jpg        46  \n",
      "              Girl2_Clarendon_100.jpg        68  \n",
      "Juno      0   Girl1_OG.jpg                   18  \n",
      "              Girl2_OG.jpg                   20  \n",
      "          25  Girl1_Juno_25.jpg              46  \n",
      "              Girl2_Juno_25.jpg              52  \n",
      "          50  Girl1_Juno_50.jpg              52  \n",
      "              Girl2_Juno_50.jpg              50  \n",
      "          75  Girl1_Juno_75.jpg              38  \n",
      "              Girl2_Juno_75.jpg              48  \n",
      "          100 Girl1_Juno_100.jpg             60  \n",
      "              Girl2_Juno_100.jpg             40  \n",
      "Lark      0   Girl1_OG.jpg                   20  \n",
      "              Girl2_OG.jpg                   22  \n",
      "          25  Girl1_Lark_25.jpg              42  \n",
      "              Girl2_Lark_25.jpg              44  \n",
      "          50  Girl1_Lark_50.jpg              46  \n",
      "              Girl2_Lark_50.jpg              48  \n",
      "          75  Girl1_Lark_75.jpg              72  \n",
      "              Girl2_Lark_75.jpg              52  \n",
      "          100 Girl1_Lark_100.jpg             42  \n",
      "              Girl2_Lark_100.jpg             36  \n"
     ]
    }
   ],
   "source": [
    "# each of them with one entry\n",
    "print(agg2)"
   ]
  },
  {
   "cell_type": "markdown",
   "metadata": {},
   "source": [
    "## Visualizing data from about one image category\n"
   ]
  },
  {
   "cell_type": "code",
   "execution_count": 64,
   "metadata": {},
   "outputs": [],
   "source": [
    "# selecting data for only one picture\n",
    "picname = 'Girl1'\n",
    "#d= df[df['name'] == picname]\n",
    "d = df\n"
   ]
  },
  {
   "cell_type": "code",
   "execution_count": null,
   "metadata": {},
   "outputs": [],
   "source": []
  },
  {
   "cell_type": "code",
   "execution_count": 65,
   "metadata": {},
   "outputs": [
    {
     "data": {
      "image/png": "[encoded data removed]",
      "text/plain": [
       "<Figure size 720x360 with 1 Axes>"
      ]
     },
     "metadata": {
      "needs_background": "light"
     },
     "output_type": "display_data"
    }
   ],
   "source": [
    "# distribution of quality values for this image category\n",
    "user = d.loc[d['usage'] == 'yes']\n",
    "non_user = d.loc[d['usage'] == 'no']\n",
    "\n",
    "plt.figure(figsize=(10,5))\n",
    "\n",
    "plt.hist(user['chosen_i'], rwidth=0.5, alpha=0.5, label='user')\n",
    "plt.hist(non_user['chosen_i'], rwidth=0.3, alpha=0.5, label='non-user')\n",
    "\n",
    "plt.legend()\n",
    "plt.title(picname)\n",
    "plt.xticks(np.arange(0,101,25))\n",
    "plt.xlabel('response')\n",
    "plt.xlim((0, 100))\n",
    "plt.ylabel('frequency')\n",
    "sns.despine()"
   ]
  },
  {
   "cell_type": "code",
   "execution_count": 77,
   "metadata": {},
   "outputs": [
    {
     "ename": "ValueError",
     "evalue": "Could not interpret input 'intensity_a'",
     "output_type": "error",
     "traceback": [
      "\u001b[0;31m---------------------------------------------------------------------------\u001b[0m",
      "\u001b[0;31mValueError\u001b[0m                                Traceback (most recent call last)",
      "\u001b[0;32m<ipython-input-77-87123487fc4d>\u001b[0m in \u001b[0;36m<module>\u001b[0;34m\u001b[0m\n\u001b[1;32m      4\u001b[0m \u001b[0;31m### barplot aggregated by k\u001b[0m\u001b[0;34m\u001b[0m\u001b[0;34m\u001b[0m\u001b[0;34m\u001b[0m\u001b[0m\n\u001b[1;32m      5\u001b[0m \u001b[0;31m## we call the function catplot() (cat: categorical)\u001b[0m\u001b[0;34m\u001b[0m\u001b[0;34m\u001b[0m\u001b[0;34m\u001b[0m\u001b[0m\n\u001b[0;32m----> 6\u001b[0;31m g = sns.catplot(x='intensity_a', y='i_a', data=d, kind='bar', color='#e34a33',\n\u001b[0m\u001b[1;32m      7\u001b[0m             ci='sd')\n\u001b[1;32m      8\u001b[0m \u001b[0mg\u001b[0m\u001b[0;34m.\u001b[0m\u001b[0mset_ylabels\u001b[0m\u001b[0;34m(\u001b[0m\u001b[0;34m'Selected Intensity'\u001b[0m \u001b[0;34m)\u001b[0m\u001b[0;34m\u001b[0m\u001b[0;34m\u001b[0m\u001b[0m\n",
      "\u001b[0;32m~/opt/anaconda3/envs/pyML/lib/python3.8/site-packages/seaborn/_decorators.py\u001b[0m in \u001b[0;36minner_f\u001b[0;34m(*args, **kwargs)\u001b[0m\n\u001b[1;32m     44\u001b[0m             )\n\u001b[1;32m     45\u001b[0m         \u001b[0mkwargs\u001b[0m\u001b[0;34m.\u001b[0m\u001b[0mupdate\u001b[0m\u001b[0;34m(\u001b[0m\u001b[0;34m{\u001b[0m\u001b[0mk\u001b[0m\u001b[0;34m:\u001b[0m \u001b[0marg\u001b[0m \u001b[0;32mfor\u001b[0m \u001b[0mk\u001b[0m\u001b[0;34m,\u001b[0m \u001b[0marg\u001b[0m \u001b[0;32min\u001b[0m \u001b[0mzip\u001b[0m\u001b[0;34m(\u001b[0m\u001b[0msig\u001b[0m\u001b[0;34m.\u001b[0m\u001b[0mparameters\u001b[0m\u001b[0;34m,\u001b[0m \u001b[0margs\u001b[0m\u001b[0;34m)\u001b[0m\u001b[0;34m}\u001b[0m\u001b[0;34m)\u001b[0m\u001b[0;34m\u001b[0m\u001b[0;34m\u001b[0m\u001b[0m\n\u001b[0;32m---> 46\u001b[0;31m         \u001b[0;32mreturn\u001b[0m \u001b[0mf\u001b[0m\u001b[0;34m(\u001b[0m\u001b[0;34m**\u001b[0m\u001b[0mkwargs\u001b[0m\u001b[0;34m)\u001b[0m\u001b[0;34m\u001b[0m\u001b[0;34m\u001b[0m\u001b[0m\n\u001b[0m\u001b[1;32m     47\u001b[0m     \u001b[0;32mreturn\u001b[0m \u001b[0minner_f\u001b[0m\u001b[0;34m\u001b[0m\u001b[0;34m\u001b[0m\u001b[0m\n\u001b[1;32m     48\u001b[0m \u001b[0;34m\u001b[0m\u001b[0m\n",
      "\u001b[0;32m~/opt/anaconda3/envs/pyML/lib/python3.8/site-packages/seaborn/categorical.py\u001b[0m in \u001b[0;36mcatplot\u001b[0;34m(x, y, hue, data, row, col, col_wrap, estimator, ci, n_boot, units, seed, order, hue_order, row_order, col_order, kind, height, aspect, orient, color, palette, legend, legend_out, sharex, sharey, margin_titles, facet_kws, **kwargs)\u001b[0m\n\u001b[1;32m   3777\u001b[0m     \u001b[0mp\u001b[0m \u001b[0;34m=\u001b[0m \u001b[0m_CategoricalPlotter\u001b[0m\u001b[0;34m(\u001b[0m\u001b[0;34m)\u001b[0m\u001b[0;34m\u001b[0m\u001b[0;34m\u001b[0m\u001b[0m\n\u001b[1;32m   3778\u001b[0m     \u001b[0mp\u001b[0m\u001b[0;34m.\u001b[0m\u001b[0mrequire_numeric\u001b[0m \u001b[0;34m=\u001b[0m \u001b[0mplotter_class\u001b[0m\u001b[0;34m.\u001b[0m\u001b[0mrequire_numeric\u001b[0m\u001b[0;34m\u001b[0m\u001b[0;34m\u001b[0m\u001b[0m\n\u001b[0;32m-> 3779\u001b[0;31m     \u001b[0mp\u001b[0m\u001b[0;34m.\u001b[0m\u001b[0mestablish_variables\u001b[0m\u001b[0;34m(\u001b[0m\u001b[0mx_\u001b[0m\u001b[0;34m,\u001b[0m \u001b[0my_\u001b[0m\u001b[0;34m,\u001b[0m \u001b[0mhue\u001b[0m\u001b[0;34m,\u001b[0m \u001b[0mdata\u001b[0m\u001b[0;34m,\u001b[0m \u001b[0morient\u001b[0m\u001b[0;34m,\u001b[0m \u001b[0morder\u001b[0m\u001b[0;34m,\u001b[0m \u001b[0mhue_order\u001b[0m\u001b[0;34m)\u001b[0m\u001b[0;34m\u001b[0m\u001b[0;34m\u001b[0m\u001b[0m\n\u001b[0m\u001b[1;32m   3780\u001b[0m     if (\n\u001b[1;32m   3781\u001b[0m         \u001b[0morder\u001b[0m \u001b[0;32mis\u001b[0m \u001b[0;32mnot\u001b[0m \u001b[0;32mNone\u001b[0m\u001b[0;34m\u001b[0m\u001b[0;34m\u001b[0m\u001b[0m\n",
      "\u001b[0;32m~/opt/anaconda3/envs/pyML/lib/python3.8/site-packages/seaborn/categorical.py\u001b[0m in \u001b[0;36mestablish_variables\u001b[0;34m(self, x, y, hue, data, orient, order, hue_order, units)\u001b[0m\n\u001b[1;32m    151\u001b[0m                 \u001b[0;32mif\u001b[0m \u001b[0misinstance\u001b[0m\u001b[0;34m(\u001b[0m\u001b[0mvar\u001b[0m\u001b[0;34m,\u001b[0m \u001b[0mstr\u001b[0m\u001b[0;34m)\u001b[0m\u001b[0;34m:\u001b[0m\u001b[0;34m\u001b[0m\u001b[0;34m\u001b[0m\u001b[0m\n\u001b[1;32m    152\u001b[0m                     \u001b[0merr\u001b[0m \u001b[0;34m=\u001b[0m \u001b[0;34m\"Could not interpret input '{}'\"\u001b[0m\u001b[0;34m.\u001b[0m\u001b[0mformat\u001b[0m\u001b[0;34m(\u001b[0m\u001b[0mvar\u001b[0m\u001b[0;34m)\u001b[0m\u001b[0;34m\u001b[0m\u001b[0;34m\u001b[0m\u001b[0m\n\u001b[0;32m--> 153\u001b[0;31m                     \u001b[0;32mraise\u001b[0m \u001b[0mValueError\u001b[0m\u001b[0;34m(\u001b[0m\u001b[0merr\u001b[0m\u001b[0;34m)\u001b[0m\u001b[0;34m\u001b[0m\u001b[0;34m\u001b[0m\u001b[0m\n\u001b[0m\u001b[1;32m    154\u001b[0m \u001b[0;34m\u001b[0m\u001b[0m\n\u001b[1;32m    155\u001b[0m             \u001b[0;31m# Figure out the plotting orientation\u001b[0m\u001b[0;34m\u001b[0m\u001b[0;34m\u001b[0m\u001b[0;34m\u001b[0m\u001b[0m\n",
      "\u001b[0;31mValueError\u001b[0m: Could not interpret input 'intensity_a'"
     ]
    }
   ],
   "source": [
    "picname = 'Girl1'\n",
    "d= df[df['name'] == picname]\n",
    "\n",
    "### barplot aggregated by k\n",
    "## we call the function catplot() (cat: categorical)\n",
    "g = sns.catplot(x='intensity_a', y='chosen_i', data=d, kind='bar', color='#e34a33',\n",
    "            ci='sd')\n",
    "g.set_ylabels('Selected Intensity' )\n",
    "g.set_xlabels('Actual Intensity')\n",
    "#g.set(ylim = (-3, 3))\n",
    "plt.title(picname)"
   ]
  },
  {
   "cell_type": "code",
   "execution_count": 16,
   "metadata": {},
   "outputs": [
    {
     "data": {
      "text/plain": [
       "Text(0.5, 1.0, 'Abstrakt')"
      ]
     },
     "execution_count": 16,
     "metadata": {},
     "output_type": "execute_result"
    },
    {
     "data": {
      "image/png": "[encoded data removed]",
      "text/plain": [
       "<Figure size 360x360 with 1 Axes>"
      ]
     },
     "metadata": {
      "needs_background": "light"
     },
     "output_type": "display_data"
    }
   ],
   "source": [
    "### barplot aggregated by g\n",
    "g = sns.catplot(x='g', y='quality_value', data=d, kind='bar', color='#3182bd',\n",
    "            ci='sd')\n",
    "g.set_ylabels('Quality')\n",
    "g.set_xlabels('Gamma')\n",
    "g.set(ylim = (-3, 3))\n",
    "plt.title(picname)"
   ]
  },
  {
   "cell_type": "code",
   "execution_count": 182,
   "metadata": {},
   "outputs": [
    {
     "data": {
      "text/plain": [
       "<seaborn.axisgrid.FacetGrid at 0x7fed4f934dc0>"
      ]
     },
     "execution_count": 182,
     "metadata": {},
     "output_type": "execute_result"
    },
    {
     "data": {
      "image/png": "[encoded data removed]",
      "text/plain": [
       "<Figure size 503.65x360 with 1 Axes>"
      ]
     },
     "metadata": {
      "needs_background": "light"
     },
     "output_type": "display_data"
    }
   ],
   "source": [
    "#### barplot aggregated by k and g\n",
    "g = sns.catplot(x='intensity', y='response_i', data=d, hue='filter',\n",
    "                col='name', kind='bar', ci='sd',\n",
    "                palette='Greens')\n",
    "g.set_ylabels('Intensity')\n",
    "g.set_xlabels('Selected Intensity')\n",
    "#g.set(ylim = (-3, 3))\n",
    "#g.savefig('%s.pdf' % picname)"
   ]
  },
  {
   "cell_type": "code",
   "execution_count": 18,
   "metadata": {},
   "outputs": [
    {
     "data": {
      "text/plain": [
       "<seaborn.axisgrid.FacetGrid at 0x7f466a3ffeb0>"
      ]
     },
     "execution_count": 18,
     "metadata": {},
     "output_type": "execute_result"
    },
    {
     "data": {
      "image/png": "[encoded data removed]",
      "text/plain": [
       "<Figure size 456.15x360 with 1 Axes>"
      ]
     },
     "metadata": {
      "needs_background": "light"
     },
     "output_type": "display_data"
    }
   ],
   "source": [
    "# a line plot instead of a barplot... for that we call the function relplot() (rel: relationship)\n",
    "g = sns.relplot(x='k', y='quality_value', data=d, hue='g',\n",
    "                col='picture', kind='line', ci='sd',\n",
    "                palette='Greens')\n",
    "g.set_ylabels('Quality')\n",
    "g.set_xlabels('Kontrast')\n",
    "g.set(ylim = (-3, 3))\n",
    "#g.savefig('%s.pdf' % picname)"
   ]
  },
  {
   "cell_type": "markdown",
   "metadata": {},
   "source": [
    "## Visualizing data from all pictures"
   ]
  },
  {
   "cell_type": "code",
   "execution_count": 19,
   "metadata": {},
   "outputs": [
    {
     "data": {
      "text/plain": [
       "<seaborn.axisgrid.FacetGrid at 0x7f466a3b1e20>"
      ]
     },
     "execution_count": 19,
     "metadata": {},
     "output_type": "execute_result"
    },
    {
     "data": {
      "image/png": "[encoded data removed]",
      "text/plain": [
       "<Figure size 960.15x1440 with 15 Axes>"
      ]
     },
     "metadata": {
      "needs_background": "light"
     },
     "output_type": "display_data"
    }
   ],
   "source": [
    "# %%  Using small multiples to visualize data from all pictures in one figure \n",
    "g = sns.catplot(x='chosen_i', y='quality_value', data=df, hue='chosen_f',\n",
    "                col='picture', col_wrap = 3, kind='bar', ci='sd', height=4,\n",
    "                palette='Greens')\n",
    "g.set_ylabels('Quality')\n",
    "g.set_xlabels('Kontrast')\n",
    "g.set_titles('{col_name}')\n",
    "g.set(ylim = (-3, 3))\n",
    "#g.savefig('allpictures_in_different_panels.pdf')\n"
   ]
  },
  {
   "cell_type": "code",
   "execution_count": 20,
   "metadata": {},
   "outputs": [
    {
     "data": {
      "image/png": "[encoded data removed]",
      "text/plain": [
       "<Figure size 456.15x360 with 1 Axes>"
      ]
     },
     "metadata": {
      "needs_background": "light"
     },
     "output_type": "display_data"
    }
   ],
   "source": [
    "# %% collapsing all pictures into one visualization\n",
    "g = sns.catplot(x='k', y='quality_value', data=df, hue='g',\n",
    "                kind='bar', ci='sd', errwidth=2,\n",
    "                palette='Greens')\n",
    "g.set_ylabels('Quality')\n",
    "g.set_xlabels('Kontrast')\n",
    "g.set(ylim = (-3, 3))\n",
    "plt.title('all pictures aggregated')\n",
    "g.savefig('allpictures_aggregated.pdf')\n",
    "\n"
   ]
  },
  {
   "cell_type": "markdown",
   "metadata": {},
   "source": [
    "## Some statistical analysis"
   ]
  },
  {
   "cell_type": "code",
   "execution_count": 21,
   "metadata": {},
   "outputs": [],
   "source": [
    "# we load scipy\n",
    "import scipy"
   ]
  },
  {
   "cell_type": "markdown",
   "metadata": {},
   "source": [
    "### t-test \n",
    "With a t-test we can test whether the values of two groups have the same mean. The null-hypothesis states that the mean difference between the two samples is zero. \n",
    "The test gives us a 'p-value', the conditional probability for the observed difference between means under the assumption (condition) that the null-hypothesis is true. When the p-value is smaller than a criterion value (0.05 for 95 % confidence by convention), we say we *reject* the null-hypothesis. In other words, a p value <.05 indicates that the difference between the two samples is unlikely to be truly zero."
   ]
  },
  {
   "cell_type": "code",
   "execution_count": 22,
   "metadata": {},
   "outputs": [
    {
     "data": {
      "text/html": [
       "<div>\n",
       "<style scoped>\n",
       "    .dataframe tbody tr th:only-of-type {\n",
       "        vertical-align: middle;\n",
       "    }\n",
       "\n",
       "    .dataframe tbody tr th {\n",
       "        vertical-align: top;\n",
       "    }\n",
       "\n",
       "    .dataframe thead th {\n",
       "        text-align: right;\n",
       "    }\n",
       "</style>\n",
       "<table border=\"1\" class=\"dataframe\">\n",
       "  <thead>\n",
       "    <tr style=\"text-align: right;\">\n",
       "      <th></th>\n",
       "      <th>k</th>\n",
       "      <th>g</th>\n",
       "      <th>picture</th>\n",
       "      <th>brightness</th>\n",
       "      <th>quality_value</th>\n",
       "    </tr>\n",
       "  </thead>\n",
       "  <tbody>\n",
       "    <tr>\n",
       "      <th>7</th>\n",
       "      <td>0.5</td>\n",
       "      <td>0.75</td>\n",
       "      <td>Detailarm</td>\n",
       "      <td>195.980923</td>\n",
       "      <td>-2.45</td>\n",
       "    </tr>\n",
       "    <tr>\n",
       "      <th>11</th>\n",
       "      <td>0.5</td>\n",
       "      <td>1.50</td>\n",
       "      <td>DunkelRaum</td>\n",
       "      <td>84.542856</td>\n",
       "      <td>-1.05</td>\n",
       "    </tr>\n",
       "    <tr>\n",
       "      <th>12</th>\n",
       "      <td>0.5</td>\n",
       "      <td>0.75</td>\n",
       "      <td>Einfarbig</td>\n",
       "      <td>214.433419</td>\n",
       "      <td>-2.16</td>\n",
       "    </tr>\n",
       "    <tr>\n",
       "      <th>22</th>\n",
       "      <td>0.5</td>\n",
       "      <td>1.25</td>\n",
       "      <td>DunkelStadt</td>\n",
       "      <td>57.461933</td>\n",
       "      <td>-2.80</td>\n",
       "    </tr>\n",
       "    <tr>\n",
       "      <th>25</th>\n",
       "      <td>0.5</td>\n",
       "      <td>0.75</td>\n",
       "      <td>Abstrakt</td>\n",
       "      <td>37.192704</td>\n",
       "      <td>-1.21</td>\n",
       "    </tr>\n",
       "    <tr>\n",
       "      <th>...</th>\n",
       "      <td>...</td>\n",
       "      <td>...</td>\n",
       "      <td>...</td>\n",
       "      <td>...</td>\n",
       "      <td>...</td>\n",
       "    </tr>\n",
       "    <tr>\n",
       "      <th>331</th>\n",
       "      <td>0.5</td>\n",
       "      <td>1.00</td>\n",
       "      <td>HellFace</td>\n",
       "      <td>207.936104</td>\n",
       "      <td>-2.70</td>\n",
       "    </tr>\n",
       "    <tr>\n",
       "      <th>333</th>\n",
       "      <td>0.5</td>\n",
       "      <td>1.00</td>\n",
       "      <td>Kontrastreich</td>\n",
       "      <td>128.555497</td>\n",
       "      <td>-2.06</td>\n",
       "    </tr>\n",
       "    <tr>\n",
       "      <th>334</th>\n",
       "      <td>0.5</td>\n",
       "      <td>1.25</td>\n",
       "      <td>HellRaum</td>\n",
       "      <td>181.237005</td>\n",
       "      <td>-2.13</td>\n",
       "    </tr>\n",
       "    <tr>\n",
       "      <th>357</th>\n",
       "      <td>0.5</td>\n",
       "      <td>0.75</td>\n",
       "      <td>HellStrand</td>\n",
       "      <td>174.530515</td>\n",
       "      <td>-2.22</td>\n",
       "    </tr>\n",
       "    <tr>\n",
       "      <th>358</th>\n",
       "      <td>0.5</td>\n",
       "      <td>1.00</td>\n",
       "      <td>HellRaum</td>\n",
       "      <td>181.237005</td>\n",
       "      <td>-2.04</td>\n",
       "    </tr>\n",
       "  </tbody>\n",
       "</table>\n",
       "<p>75 rows × 5 columns</p>\n",
       "</div>"
      ],
      "text/plain": [
       "       k     g        picture  brightness  quality_value\n",
       "7    0.5  0.75      Detailarm  195.980923          -2.45\n",
       "11   0.5  1.50     DunkelRaum   84.542856          -1.05\n",
       "12   0.5  0.75      Einfarbig  214.433419          -2.16\n",
       "22   0.5  1.25    DunkelStadt   57.461933          -2.80\n",
       "25   0.5  0.75       Abstrakt   37.192704          -1.21\n",
       "..   ...   ...            ...         ...            ...\n",
       "331  0.5  1.00       HellFace  207.936104          -2.70\n",
       "333  0.5  1.00  Kontrastreich  128.555497          -2.06\n",
       "334  0.5  1.25       HellRaum  181.237005          -2.13\n",
       "357  0.5  0.75     HellStrand  174.530515          -2.22\n",
       "358  0.5  1.00       HellRaum  181.237005          -2.04\n",
       "\n",
       "[75 rows x 5 columns]"
      ]
     },
     "execution_count": 22,
     "metadata": {},
     "output_type": "execute_result"
    }
   ],
   "source": [
    "# we select the data we want to compare. We select the data for k=0.5 and k=1.5 \n",
    "# and assign them to two vectors, y1 and y2\n",
    "k1 = df[df['k']==0.5]\n",
    "k2 = df[df['k']==1.0]\n",
    "\n",
    "k1\n",
    "#k1['quality_value']\n"
   ]
  },
  {
   "cell_type": "code",
   "execution_count": 23,
   "metadata": {},
   "outputs": [
    {
     "name": "stdout",
     "output_type": "stream",
     "text": [
      "p-value: 2.606247110907521e-21\n"
     ]
    }
   ],
   "source": [
    "# we call a t-test for two independent samples \n",
    "tstat, pvalue = scipy.stats.ttest_ind(k1['quality_value'], \n",
    "                                      k2['quality_value']) \n",
    "\n",
    "print('p-value:', pvalue)"
   ]
  },
  {
   "cell_type": "markdown",
   "metadata": {},
   "source": [
    "The p-value is << 0.05, so we reject the null hypothesis and say that the difference is significant."
   ]
  },
  {
   "cell_type": "markdown",
   "metadata": {},
   "source": [
    "### ANOVA\n",
    "If we want to compare the means of more than 2 groups, we need to perform an Analysis of Variance (ANOVA). The null-hypothesis in the ANOVA states that there is no difference between the means of the groups. A p-value less than 0.05 (at 95 %) rejects this general hypothesis without indicating which groups are different from one another."
   ]
  },
  {
   "cell_type": "code",
   "execution_count": 24,
   "metadata": {},
   "outputs": [],
   "source": [
    "# for an ANOVA we need the python module statsmodels (statistical models)\n",
    "import statsmodels.api as sm  \n",
    "\n",
    "# the particular function we need is called ols()\n",
    "# (ols: ordinary least squares, that is the type of fitting)\n",
    "from statsmodels.formula.api import ols   "
   ]
  },
  {
   "cell_type": "code",
   "execution_count": 25,
   "metadata": {},
   "outputs": [
    {
     "data": {
      "text/html": [
       "<div>\n",
       "<style scoped>\n",
       "    .dataframe tbody tr th:only-of-type {\n",
       "        vertical-align: middle;\n",
       "    }\n",
       "\n",
       "    .dataframe tbody tr th {\n",
       "        vertical-align: top;\n",
       "    }\n",
       "\n",
       "    .dataframe thead th {\n",
       "        text-align: right;\n",
       "    }\n",
       "</style>\n",
       "<table border=\"1\" class=\"dataframe\">\n",
       "  <thead>\n",
       "    <tr style=\"text-align: right;\">\n",
       "      <th></th>\n",
       "      <th>df</th>\n",
       "      <th>sum_sq</th>\n",
       "      <th>mean_sq</th>\n",
       "      <th>F</th>\n",
       "      <th>PR(&gt;F)</th>\n",
       "    </tr>\n",
       "  </thead>\n",
       "  <tbody>\n",
       "    <tr>\n",
       "      <th>C(k)</th>\n",
       "      <td>4.0</td>\n",
       "      <td>121.098479</td>\n",
       "      <td>30.274620</td>\n",
       "      <td>40.554424</td>\n",
       "      <td>6.241619e-28</td>\n",
       "    </tr>\n",
       "    <tr>\n",
       "      <th>C(g)</th>\n",
       "      <td>4.0</td>\n",
       "      <td>59.353084</td>\n",
       "      <td>14.838271</td>\n",
       "      <td>19.876634</td>\n",
       "      <td>9.159041e-15</td>\n",
       "    </tr>\n",
       "    <tr>\n",
       "      <th>Residual</th>\n",
       "      <td>351.0</td>\n",
       "      <td>262.027924</td>\n",
       "      <td>0.746518</td>\n",
       "      <td>NaN</td>\n",
       "      <td>NaN</td>\n",
       "    </tr>\n",
       "  </tbody>\n",
       "</table>\n",
       "</div>"
      ],
      "text/plain": [
       "             df      sum_sq    mean_sq          F        PR(>F)\n",
       "C(k)        4.0  121.098479  30.274620  40.554424  6.241619e-28\n",
       "C(g)        4.0   59.353084  14.838271  19.876634  9.159041e-15\n",
       "Residual  351.0  262.027924   0.746518        NaN           NaN"
      ]
     },
     "execution_count": 25,
     "metadata": {},
     "output_type": "execute_result"
    }
   ],
   "source": [
    "# we need to set up a 'formula' for the model. This formula is similar to the syntax in R.\n",
    "\n",
    "# on the left side of the tilde we put the dependent variable\n",
    "# on the right side of the tilde we state the independent variables \n",
    "# the C( )  indicates that we consider the variable as a categorical variable (and not continuous)\n",
    "# the sign + is not a sum, it is to indicate more than one variable.\n",
    "# the sign * is not a multiplication, it is to indicate we want to also model interactions between the variables\n",
    "\n",
    "# we call ols() passing the model 'formula'\n",
    "mod = ols('quality_value ~ C(k) + C(g)', data=df)\n",
    "\n",
    "# we fit the model\n",
    "fit = mod.fit()\n",
    "\n",
    "# we show the ANOVA table\n",
    "sm.stats.anova_lm(fit)"
   ]
  },
  {
   "cell_type": "markdown",
   "metadata": {},
   "source": [
    "The ANOVA table shows that for both variables k and g there is a signifficant effect (p-values < 0.05 for 95 % confidence). There is also a signifficant interaction term ('C(k):C(g)').\n",
    "\n",
    "\n",
    "The p-values reject the null hypothesis, meaning that there is a significant difference between the means. But which ones? To answer that we need to perform a so-called post-hoc test. "
   ]
  },
  {
   "cell_type": "markdown",
   "metadata": {},
   "source": [
    "Post-hoc tests do all the pairwise comparisons (like a t-test), but correcting the p-value for multiple comparisons. This correction is needed because of statistical reasons. The risk of not correcting is that we will be detecting differences that are not there. (https://en.wikipedia.org/wiki/Multiple_comparisons_problem)."
   ]
  },
  {
   "cell_type": "code",
   "execution_count": 26,
   "metadata": {},
   "outputs": [
    {
     "data": {
      "text/html": [
       "<table class=\"simpletable\">\n",
       "<caption>Test Multiple Comparison ttest_ind \n",
       "FWER=0.05 method=bonf\n",
       "alphacSidak=0.01, alphacBonf=0.005</caption>\n",
       "<tr>\n",
       "  <th>group1</th> <th>group2</th>   <th>stat</th>    <th>pval</th>  <th>pval_corr</th> <th>reject</th>\n",
       "</tr>\n",
       "<tr>\n",
       "    <td>0.5</td>   <td>0.75</td>   <td>-9.0713</td>   <td>0.0</td>     <td>0.0</td>     <td>True</td> \n",
       "</tr>\n",
       "<tr>\n",
       "    <td>0.5</td>    <td>1.0</td>   <td>-11.355</td>   <td>0.0</td>     <td>0.0</td>     <td>True</td> \n",
       "</tr>\n",
       "<tr>\n",
       "    <td>0.5</td>   <td>1.25</td>  <td>-11.0697</td>   <td>0.0</td>     <td>0.0</td>     <td>True</td> \n",
       "</tr>\n",
       "<tr>\n",
       "    <td>0.5</td>    <td>1.5</td>   <td>-7.3893</td>   <td>0.0</td>     <td>0.0</td>     <td>True</td> \n",
       "</tr>\n",
       "<tr>\n",
       "   <td>0.75</td>    <td>1.0</td>   <td>-4.4619</td>   <td>0.0</td>   <td>0.0002</td>    <td>True</td> \n",
       "</tr>\n",
       "<tr>\n",
       "   <td>0.75</td>   <td>1.25</td>   <td>-4.9838</td>   <td>0.0</td>     <td>0.0</td>     <td>True</td> \n",
       "</tr>\n",
       "<tr>\n",
       "   <td>0.75</td>    <td>1.5</td>   <td>-1.6373</td> <td>0.1037</td>    <td>1.0</td>     <td>False</td>\n",
       "</tr>\n",
       "<tr>\n",
       "    <td>1.0</td>   <td>1.25</td>   <td>-0.6897</td> <td>0.4916</td>    <td>1.0</td>     <td>False</td>\n",
       "</tr>\n",
       "<tr>\n",
       "    <td>1.0</td>    <td>1.5</td>   <td>1.9879</td>  <td>0.0489</td>  <td>0.4888</td>    <td>False</td>\n",
       "</tr>\n",
       "<tr>\n",
       "   <td>1.25</td>    <td>1.5</td>   <td>2.6678</td>  <td>0.0085</td>  <td>0.0849</td>    <td>False</td>\n",
       "</tr>\n",
       "</table>"
      ],
      "text/plain": [
       "<class 'statsmodels.iolib.table.SimpleTable'>"
      ]
     },
     "execution_count": 26,
     "metadata": {},
     "output_type": "execute_result"
    }
   ],
   "source": [
    "# perform multiple pairwise comparison\n",
    "from statsmodels.stats.multicomp import MultiComparison\n",
    "\n",
    "MultiComp = MultiComparison(df['quality_value'],\n",
    "                             df['k'])\n",
    "\n",
    "# the first argument is the test we will do, a t-test (same function as above)\n",
    "# the second argument is the type of correction, in this case Bonferroni correction.\n",
    "comp = MultiComp.allpairtest(scipy.stats.ttest_ind, method='bonf')\n",
    "comp[0]\n"
   ]
  },
  {
   "cell_type": "markdown",
   "metadata": {},
   "source": [
    "The table shows all comparisons for k. The rightmost column says whether there is a significant difference between the groups tested (reject = True)."
   ]
  }
 ],
 "metadata": {
  "kernelspec": {
   "display_name": "Python 3",
   "language": "python",
   "name": "python3"
  },
  "language_info": {
   "codemirror_mode": {
    "name": "ipython",
    "version": 3
   },
   "file_extension": ".py",
   "mimetype": "text/x-python",
   "name": "python",
   "nbconvert_exporter": "python",
   "pygments_lexer": "ipython3",
   "version": "3.8.5"
  }
 },
 "nbformat": 4,
 "nbformat_minor": 5
}
