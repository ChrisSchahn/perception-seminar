{
 "cells": [
  {
   "cell_type": "markdown",
   "metadata": {},
   "source": [
    "# Beispiel Auswertung\n",
    "### Daten: Gruppe von Dominik B\n",
    "\n",
    "### Seminar "
   ]
  },
  {
   "cell_type": "code",
   "execution_count": 3,
   "metadata": {
    "scrolled": true
   },
   "outputs": [],
   "source": [
    "import pandas as pd    # module to work with data in DataFrames.\n",
    "import numpy as np\n",
    "import seaborn as sns  # module to plot DataFrames in an easy way\n",
    "import matplotlib.pyplot as plt"
   ]
  },
  {
   "cell_type": "code",
   "execution_count": 4,
   "metadata": {},
   "outputs": [],
   "source": [
    "# seaborn comes with default presets (called 'contents') for figure's aesthetics, \n",
    "# such as the font size, figure size etc. \n",
    "sns.set_context('talk') # try: 'talk', 'poster', 'notebook'"
   ]
  },
  {
   "cell_type": "code",
   "execution_count": 5,
   "metadata": {},
   "outputs": [],
   "source": [
    "def add_name_and_response(df, name):\n",
    "    image_name = df['image'].str.split(\"_\", n = 1, expand = True)[0]\n",
    "    df['observer'] = name\n",
    "    df.insert(4, 'response_i', df['response'])\n",
    "    df.insert(2, 'name', image_name)\n",
    "    df.loc[df['response'] == 1, 'response_i'] = 0\n",
    "    df.loc[df['response'] == 2, 'response_i'] = 25\n",
    "    df.loc[df['response'] == 3, 'response_i'] = 50\n",
    "    df.loc[df['response'] == 4, 'response_i'] = 75\n",
    "    df.loc[df['response'] == 5, 'response_i'] = 100\n",
    "    return df\n",
    "    \n",
    "    "
   ]
  },
  {
   "cell_type": "code",
   "execution_count": 16,
   "metadata": {},
   "outputs": [],
   "source": [
    "# we read the data\n",
    "chris = pd.read_csv('single_results/chris_single_result_1.csv')\n",
    "clemens = pd.read_csv('single_results/clemens_single_result_1.csv')\n",
    "daniel = pd.read_csv('single_results/daniel_single_result_2.csv')\n",
    "jenny = pd.read_csv('single_results/jenny_single_result_1.csv')\n",
    "katja = pd.read_csv('single_results/katja_single_result_1.csv')\n",
    "laurenz = pd.read_csv('single_results/laurenz_single_result_1.csv')\n",
    "paul = pd.read_csv('single_results/paul_single_result_1.csv')\n",
    "dominik = pd.read_csv('single_results/dominik_single_result_1.csv')\n",
    "\n",
    "df1 = add_name_and_response(chris, 'Chris')\n",
    "df2 = add_name_and_response(clemens, 'Clemens')\n",
    "df3 = add_name_and_response(daniel, 'Daniel')\n",
    "df4 = add_name_and_response(jenny, 'Jenny')\n",
    "df5 = add_name_and_response(katja, 'Katja')\n",
    "df6 = add_name_and_response(laurenz, 'Laurenz')\n",
    "df7 = add_name_and_response(paul, 'Paul')\n",
    "df8 = add_name_and_response(dominik, 'Dominik')\n",
    "\n",
    "\n",
    "df = pd.concat((df1, df2, df3, df4, df5, df6, df7, df8))\n",
    "\n",
    "\n",
    "\n",
    "# if we have more observers we could read their files, assign the column observer \n",
    "# with their name, and concatenate the DataFrames with pd.concat(). Example:\n",
    "# df1 = pd.read_csv('Person1.csv')\n",
    "# df1['observer'] = 'Person1'      # creates a new column called 'observer'\n",
    "# df2 = pd.read_csv('Person2.csv') # reads second file\n",
    "# df2['observer'] = 'Person2'     \n",
    "# df = pd.concat((df, df2))        # concatenates both dataframes in one\n"
   ]
  },
  {
   "cell_type": "code",
   "execution_count": 17,
   "metadata": {},
   "outputs": [
    {
     "data": {
      "text/html": [
       "<div>\n",
       "<style scoped>\n",
       "    .dataframe tbody tr th:only-of-type {\n",
       "        vertical-align: middle;\n",
       "    }\n",
       "\n",
       "    .dataframe tbody tr th {\n",
       "        vertical-align: top;\n",
       "    }\n",
       "\n",
       "    .dataframe thead th {\n",
       "        text-align: right;\n",
       "    }\n",
       "</style>\n",
       "<table border=\"1\" class=\"dataframe\">\n",
       "  <thead>\n",
       "    <tr style=\"text-align: right;\">\n",
       "      <th></th>\n",
       "      <th>usage</th>\n",
       "      <th>image</th>\n",
       "      <th>name</th>\n",
       "      <th>filter</th>\n",
       "      <th>intensity</th>\n",
       "      <th>response_i</th>\n",
       "      <th>response</th>\n",
       "      <th>resptime</th>\n",
       "      <th>observer</th>\n",
       "    </tr>\n",
       "  </thead>\n",
       "  <tbody>\n",
       "    <tr>\n",
       "      <th>0</th>\n",
       "      <td>no</td>\n",
       "      <td>Lake_Lark_75.jpg</td>\n",
       "      <td>Lake</td>\n",
       "      <td>Lark</td>\n",
       "      <td>75</td>\n",
       "      <td>50</td>\n",
       "      <td>3</td>\n",
       "      <td>12.605726</td>\n",
       "      <td>Chris</td>\n",
       "    </tr>\n",
       "    <tr>\n",
       "      <th>1</th>\n",
       "      <td>no</td>\n",
       "      <td>Girl1_Juno_0.jpg</td>\n",
       "      <td>Girl1</td>\n",
       "      <td>Juno</td>\n",
       "      <td>0</td>\n",
       "      <td>25</td>\n",
       "      <td>2</td>\n",
       "      <td>3.134608</td>\n",
       "      <td>Chris</td>\n",
       "    </tr>\n",
       "    <tr>\n",
       "      <th>2</th>\n",
       "      <td>no</td>\n",
       "      <td>Girl2_Juno_25.jpg</td>\n",
       "      <td>Girl2</td>\n",
       "      <td>Juno</td>\n",
       "      <td>25</td>\n",
       "      <td>25</td>\n",
       "      <td>2</td>\n",
       "      <td>2.174805</td>\n",
       "      <td>Chris</td>\n",
       "    </tr>\n",
       "    <tr>\n",
       "      <th>3</th>\n",
       "      <td>no</td>\n",
       "      <td>Girl1_Juno_75.jpg</td>\n",
       "      <td>Girl1</td>\n",
       "      <td>Juno</td>\n",
       "      <td>75</td>\n",
       "      <td>75</td>\n",
       "      <td>4</td>\n",
       "      <td>1.158855</td>\n",
       "      <td>Chris</td>\n",
       "    </tr>\n",
       "    <tr>\n",
       "      <th>4</th>\n",
       "      <td>no</td>\n",
       "      <td>Lake_Juno_0.jpg</td>\n",
       "      <td>Lake</td>\n",
       "      <td>Juno</td>\n",
       "      <td>0</td>\n",
       "      <td>0</td>\n",
       "      <td>1</td>\n",
       "      <td>2.104012</td>\n",
       "      <td>Chris</td>\n",
       "    </tr>\n",
       "  </tbody>\n",
       "</table>\n",
       "</div>"
      ],
      "text/plain": [
       "  usage              image   name filter  intensity  response_i  response  \\\n",
       "0    no   Lake_Lark_75.jpg   Lake   Lark         75          50         3   \n",
       "1    no   Girl1_Juno_0.jpg  Girl1   Juno          0          25         2   \n",
       "2    no  Girl2_Juno_25.jpg  Girl2   Juno         25          25         2   \n",
       "3    no  Girl1_Juno_75.jpg  Girl1   Juno         75          75         4   \n",
       "4    no    Lake_Juno_0.jpg   Lake   Juno          0           0         1   \n",
       "\n",
       "    resptime observer  \n",
       "0  12.605726    Chris  \n",
       "1   3.134608    Chris  \n",
       "2   2.174805    Chris  \n",
       "3   1.158855    Chris  \n",
       "4   2.104012    Chris  "
      ]
     },
     "execution_count": 17,
     "metadata": {},
     "output_type": "execute_result"
    }
   ],
   "source": [
    "# explore the first entries in your data\n",
    "df.head()"
   ]
  },
  {
   "cell_type": "code",
   "execution_count": 18,
   "metadata": {},
   "outputs": [
    {
     "name": "stdout",
     "output_type": "stream",
     "text": [
      "['Lake' 'Girl1' 'Girl2' 'Temple']\n"
     ]
    }
   ],
   "source": [
    "# sanity checks: how many groups do you expect per categorical variable?\n",
    "# in these data we expect :\n",
    "# 5 different k values\n",
    "print(df['name'].unique())"
   ]
  },
  {
   "cell_type": "code",
   "execution_count": 19,
   "metadata": {},
   "outputs": [
    {
     "name": "stdout",
     "output_type": "stream",
     "text": [
      "['Lark' 'Juno' 'Clarendon']\n"
     ]
    }
   ],
   "source": [
    "# 5 different g values\n",
    "print(df['filter'].unique())\n"
   ]
  },
  {
   "cell_type": "code",
   "execution_count": 20,
   "metadata": {},
   "outputs": [
    {
     "name": "stdout",
     "output_type": "stream",
     "text": [
      "[3 2 4 1 5]\n"
     ]
    }
   ],
   "source": [
    "# 15 different pictures\n",
    "print(df['response'].unique())"
   ]
  },
  {
   "cell_type": "code",
   "execution_count": 23,
   "metadata": {},
   "outputs": [
    {
     "name": "stdout",
     "output_type": "stream",
     "text": [
      "                     usage  image  name  response_i  response  resptime  \\\n",
      "filter    intensity                                                       \n",
      "Clarendon 0             32     32    32          32        32        32   \n",
      "          25            32     32    32          32        32        32   \n",
      "          50            32     32    32          32        32        32   \n",
      "          75            32     32    32          32        32        32   \n",
      "          100           32     32    32          32        32        32   \n",
      "Juno      0             32     32    32          32        32        32   \n",
      "          25            32     32    32          32        32        32   \n",
      "          50            32     32    32          32        32        32   \n",
      "          75            32     32    32          32        32        32   \n",
      "          100           32     32    32          32        32        32   \n",
      "Lark      0             32     32    32          32        32        32   \n",
      "          25            32     32    32          32        32        32   \n",
      "          50            32     32    32          32        32        32   \n",
      "          75            32     32    32          32        32        32   \n",
      "          100           32     32    32          32        32        32   \n",
      "\n",
      "                     observer  \n",
      "filter    intensity            \n",
      "Clarendon 0                32  \n",
      "          25               32  \n",
      "          50               32  \n",
      "          75               32  \n",
      "          100              32  \n",
      "Juno      0                32  \n",
      "          25               32  \n",
      "          50               32  \n",
      "          75               32  \n",
      "          100              32  \n",
      "Lark      0                32  \n",
      "          25               32  \n",
      "          50               32  \n",
      "          75               32  \n",
      "          100              32  \n",
      "15\n"
     ]
    }
   ],
   "source": [
    "# there are 8 observers, 4 intensities, so we expect 8x4=32 \n",
    "\n",
    "agg1 = df.groupby(['filter', 'intensity']).count()\n",
    "\n",
    "print(agg1)\n",
    "print(len(agg1))"
   ]
  },
  {
   "cell_type": "code",
   "execution_count": 28,
   "metadata": {},
   "outputs": [
    {
     "name": "stdout",
     "output_type": "stream",
     "text": [
      "60\n"
     ]
    }
   ],
   "source": [
    "# and 24 x 15 pictures = 360  different types of trials\n",
    "agg2 = df.groupby(['filter', 'intensity', 'image']).count()\n",
    "print(len(agg2))"
   ]
  },
  {
   "cell_type": "code",
   "execution_count": 29,
   "metadata": {},
   "outputs": [
    {
     "name": "stdout",
     "output_type": "stream",
     "text": [
      "                                              usage  name  response_i  \\\n",
      "filter    intensity image                                               \n",
      "Clarendon 0         Girl1_Clarendon_0.jpg         8     8           8   \n",
      "                    Girl2_Clarendon_0.jpg         8     8           8   \n",
      "                    Lake_Clarendon_0.jpg          8     8           8   \n",
      "                    Temple_Clarendon_0.jpg        8     8           8   \n",
      "          25        Girl1_Clarendon_25.jpg        8     8           8   \n",
      "                    Girl2_Clarendon_25.jpg        8     8           8   \n",
      "                    Lake_Clarendon_25.jpg         8     8           8   \n",
      "                    Temple_Clarendon_25.jpg       8     8           8   \n",
      "          50        Girl1_Clarendon_50.jpg        8     8           8   \n",
      "                    Girl2_Clarendon_50.jpg        8     8           8   \n",
      "                    Lake_Clarendon_50.jpg         8     8           8   \n",
      "                    Temple_Clarendon_50.jpg       8     8           8   \n",
      "          75        Girl1_Clarendon_75.jpg        8     8           8   \n",
      "                    Girl2_Clarendon_75.jpg        8     8           8   \n",
      "                    Lake_Clarendon_75.jpg         8     8           8   \n",
      "                    Temple_Clarendon_75.jpg       8     8           8   \n",
      "          100       Girl1_Clarendon_100.jpg       8     8           8   \n",
      "                    Girl2_Clarendon_100.jpg       8     8           8   \n",
      "                    Lake_Clarendon_100.jpg        8     8           8   \n",
      "                    Temple_Clarendon_100.jpg      8     8           8   \n",
      "Juno      0         Girl1_Juno_0.jpg              8     8           8   \n",
      "                    Girl2_Juno_0.jpg              8     8           8   \n",
      "                    Lake_Juno_0.jpg               8     8           8   \n",
      "                    Temple_Juno_0.jpg             8     8           8   \n",
      "          25        Girl1_Juno_25.jpg             8     8           8   \n",
      "                    Girl2_Juno_25.jpg             8     8           8   \n",
      "                    Lake_Juno_25.jpg              8     8           8   \n",
      "                    Temple_Juno_25.jpg            8     8           8   \n",
      "          50        Girl1_Juno_50.jpg             8     8           8   \n",
      "                    Girl2_Juno_50.jpg             8     8           8   \n",
      "                    Lake_Juno_50.jpg              8     8           8   \n",
      "                    Temple_Juno_50.jpg            8     8           8   \n",
      "          75        Girl1_Juno_75.jpg             8     8           8   \n",
      "                    Girl2_Juno_75.jpg             8     8           8   \n",
      "                    Lake_Juno_75.jpg              8     8           8   \n",
      "                    Temple_Juno_75.jpg            8     8           8   \n",
      "          100       Girl1_Juno_100.jpg            8     8           8   \n",
      "                    Girl2_Juno_100.jpg            8     8           8   \n",
      "                    Lake_Juno_100.jpg             8     8           8   \n",
      "                    Temple_Juno_100.jpg           8     8           8   \n",
      "Lark      0         Girl1_Lark_0.jpg              8     8           8   \n",
      "                    Girl2_Lark_0.jpg              8     8           8   \n",
      "                    Lake_Lark_0.jpg               8     8           8   \n",
      "                    Temple_Lark_0.jpg             8     8           8   \n",
      "          25        Girl1_Lark_25.jpg             8     8           8   \n",
      "                    Girl2_Lark_25.jpg             8     8           8   \n",
      "                    Lake_Lark_25.jpg              8     8           8   \n",
      "                    Temple_Lark_25.jpg            8     8           8   \n",
      "          50        Girl1_Lark_50.jpg             8     8           8   \n",
      "                    Girl2_Lark_50.jpg             8     8           8   \n",
      "                    Lake_Lark_50.jpg              8     8           8   \n",
      "                    Temple_Lark_50.jpg            8     8           8   \n",
      "          75        Girl1_Lark_75.jpg             8     8           8   \n",
      "                    Girl2_Lark_75.jpg             8     8           8   \n",
      "                    Lake_Lark_75.jpg              8     8           8   \n",
      "                    Temple_Lark_75.jpg            8     8           8   \n",
      "          100       Girl1_Lark_100.jpg            8     8           8   \n",
      "                    Girl2_Lark_100.jpg            8     8           8   \n",
      "                    Lake_Lark_100.jpg             8     8           8   \n",
      "                    Temple_Lark_100.jpg           8     8           8   \n",
      "\n",
      "                                              response  resptime  observer  \n",
      "filter    intensity image                                                   \n",
      "Clarendon 0         Girl1_Clarendon_0.jpg            8         8         8  \n",
      "                    Girl2_Clarendon_0.jpg            8         8         8  \n",
      "                    Lake_Clarendon_0.jpg             8         8         8  \n",
      "                    Temple_Clarendon_0.jpg           8         8         8  \n",
      "          25        Girl1_Clarendon_25.jpg           8         8         8  \n",
      "                    Girl2_Clarendon_25.jpg           8         8         8  \n",
      "                    Lake_Clarendon_25.jpg            8         8         8  \n",
      "                    Temple_Clarendon_25.jpg          8         8         8  \n",
      "          50        Girl1_Clarendon_50.jpg           8         8         8  \n",
      "                    Girl2_Clarendon_50.jpg           8         8         8  \n",
      "                    Lake_Clarendon_50.jpg            8         8         8  \n",
      "                    Temple_Clarendon_50.jpg          8         8         8  \n",
      "          75        Girl1_Clarendon_75.jpg           8         8         8  \n",
      "                    Girl2_Clarendon_75.jpg           8         8         8  \n",
      "                    Lake_Clarendon_75.jpg            8         8         8  \n",
      "                    Temple_Clarendon_75.jpg          8         8         8  \n",
      "          100       Girl1_Clarendon_100.jpg          8         8         8  \n",
      "                    Girl2_Clarendon_100.jpg          8         8         8  \n",
      "                    Lake_Clarendon_100.jpg           8         8         8  \n",
      "                    Temple_Clarendon_100.jpg         8         8         8  \n",
      "Juno      0         Girl1_Juno_0.jpg                 8         8         8  \n",
      "                    Girl2_Juno_0.jpg                 8         8         8  \n",
      "                    Lake_Juno_0.jpg                  8         8         8  \n",
      "                    Temple_Juno_0.jpg                8         8         8  \n",
      "          25        Girl1_Juno_25.jpg                8         8         8  \n",
      "                    Girl2_Juno_25.jpg                8         8         8  \n",
      "                    Lake_Juno_25.jpg                 8         8         8  \n",
      "                    Temple_Juno_25.jpg               8         8         8  \n",
      "          50        Girl1_Juno_50.jpg                8         8         8  \n",
      "                    Girl2_Juno_50.jpg                8         8         8  \n",
      "                    Lake_Juno_50.jpg                 8         8         8  \n",
      "                    Temple_Juno_50.jpg               8         8         8  \n",
      "          75        Girl1_Juno_75.jpg                8         8         8  \n",
      "                    Girl2_Juno_75.jpg                8         8         8  \n",
      "                    Lake_Juno_75.jpg                 8         8         8  \n",
      "                    Temple_Juno_75.jpg               8         8         8  \n",
      "          100       Girl1_Juno_100.jpg               8         8         8  \n",
      "                    Girl2_Juno_100.jpg               8         8         8  \n",
      "                    Lake_Juno_100.jpg                8         8         8  \n",
      "                    Temple_Juno_100.jpg              8         8         8  \n",
      "Lark      0         Girl1_Lark_0.jpg                 8         8         8  \n",
      "                    Girl2_Lark_0.jpg                 8         8         8  \n",
      "                    Lake_Lark_0.jpg                  8         8         8  \n",
      "                    Temple_Lark_0.jpg                8         8         8  \n",
      "          25        Girl1_Lark_25.jpg                8         8         8  \n",
      "                    Girl2_Lark_25.jpg                8         8         8  \n",
      "                    Lake_Lark_25.jpg                 8         8         8  \n",
      "                    Temple_Lark_25.jpg               8         8         8  \n",
      "          50        Girl1_Lark_50.jpg                8         8         8  \n",
      "                    Girl2_Lark_50.jpg                8         8         8  \n",
      "                    Lake_Lark_50.jpg                 8         8         8  \n",
      "                    Temple_Lark_50.jpg               8         8         8  \n",
      "          75        Girl1_Lark_75.jpg                8         8         8  \n",
      "                    Girl2_Lark_75.jpg                8         8         8  \n",
      "                    Lake_Lark_75.jpg                 8         8         8  \n",
      "                    Temple_Lark_75.jpg               8         8         8  \n",
      "          100       Girl1_Lark_100.jpg               8         8         8  \n",
      "                    Girl2_Lark_100.jpg               8         8         8  \n",
      "                    Lake_Lark_100.jpg                8         8         8  \n",
      "                    Temple_Lark_100.jpg              8         8         8  \n"
     ]
    }
   ],
   "source": [
    "# each of them with one entry\n",
    "print(agg2)"
   ]
  },
  {
   "cell_type": "markdown",
   "metadata": {},
   "source": [
    "## Visualizing data from about one image category\n"
   ]
  },
  {
   "cell_type": "code",
   "execution_count": 85,
   "metadata": {},
   "outputs": [
    {
     "name": "stdout",
     "output_type": "stream",
     "text": [
      "25.0\n",
      "29.166666666666668\n",
      "43.75\n",
      "67.70833333333333\n",
      "84.375\n"
     ]
    },
    {
     "data": {
      "text/plain": [
       "[<matplotlib.lines.Line2D at 0x7f84efc0b670>]"
      ]
     },
     "execution_count": 85,
     "metadata": {},
     "output_type": "execute_result"
    },
    {
     "data": {
      "image/png": "[encoded data removed]",
      "text/plain": [
       "<Figure size 432x288 with 1 Axes>"
      ]
     },
     "metadata": {
      "needs_background": "light"
     },
     "output_type": "display_data"
    }
   ],
   "source": [
    "# selecting data for only one picture\n",
    "picname = 'Girl1'\n",
    "d = df[df['name'] == picname]\n",
    "#d = d[d['intensity'] == d['response_i']]\n",
    "\n",
    "d0 = d[d['intensity'] == 0]\n",
    "d1 = d[d['intensity'] == 25]\n",
    "d2 = d[d['intensity'] == 50]\n",
    "d3 = d[d['intensity'] == 75]\n",
    "d4 = d[d['intensity'] == 100]\n",
    "mean0 = np.mean(d0['response_i'])\n",
    "mean1 = np.mean(d1['response_i'])\n",
    "mean2 = np.mean(d2['response_i'])\n",
    "mean3 = np.mean(d3['response_i'])\n",
    "mean4 = np.mean(d4['response_i'])\n",
    "\n",
    "print(mean0)\n",
    "print(mean1)\n",
    "print(mean2)\n",
    "print(mean3)\n",
    "print(mean4)\n",
    "\n",
    "\n",
    "X = [0, 25, 50, 75, 100]\n",
    "plt.plot(X, X, '-', label='true intensities')\n",
    "plt.plot(0, mean0, 'o')\n",
    "\n",
    "\n",
    "#plt.plot(X, d['response_i'], 'o')\n",
    "\n",
    "\n",
    "\n",
    "\n"
   ]
  },
  {
   "cell_type": "code",
   "execution_count": 61,
   "metadata": {},
   "outputs": [
    {
     "name": "stdout",
     "output_type": "stream",
     "text": [
      "49\n"
     ]
    }
   ],
   "source": [
    "print(len(d))"
   ]
  },
  {
   "cell_type": "code",
   "execution_count": 62,
   "metadata": {},
   "outputs": [
    {
     "data": {
      "image/png": "[encoded data removed]",
      "text/plain": [
       "<Figure size 720x360 with 1 Axes>"
      ]
     },
     "metadata": {
      "needs_background": "light"
     },
     "output_type": "display_data"
    }
   ],
   "source": [
    "# distribution of quality values for this image category\n",
    "user = d.loc[d['usage'] == 'yes']\n",
    "non_user = d.loc[d['usage'] == 'no']\n",
    "\n",
    "plt.figure(figsize=(10,5))\n",
    "\n",
    "plt.hist(user['response_i'], alpha=0.5, label='user')\n",
    "plt.hist(non_user['response_i'], alpha=0.5, label='non-user')\n",
    "\n",
    "plt.legend()\n",
    "plt.title(picname)\n",
    "plt.xticks(np.arange(0,101,25))\n",
    "plt.xlabel('response')\n",
    "plt.xlim((0, 100))\n",
    "plt.ylabel('frequency')\n",
    "sns.despine()"
   ]
  },
  {
   "cell_type": "code",
   "execution_count": 86,
   "metadata": {},
   "outputs": [
    {
     "data": {
      "text/plain": [
       "Text(0.5, 1.0, 'Girl1')"
      ]
     },
     "execution_count": 86,
     "metadata": {},
     "output_type": "execute_result"
    },
    {
     "data": {
      "image/png": "[encoded data removed]",
      "text/plain": [
       "<Figure size 360x360 with 1 Axes>"
      ]
     },
     "metadata": {
      "needs_background": "light"
     },
     "output_type": "display_data"
    }
   ],
   "source": [
    "picname = 'Girl1'\n",
    "d= df[df['name'] == picname]\n",
    "\n",
    "### barplot aggregated by k\n",
    "## we call the function catplot() (cat: categorical)\n",
    "g = sns.catplot(x='intensity', y='response_i', data=d, kind='bar', color='#e34a33',\n",
    "            ci='sd')\n",
    "g.set_ylabels('Selected Intensity' )\n",
    "g.set_xlabels('Actual Intensity')\n",
    "#g.set(ylim = (-3, 3))\n",
    "plt.title(picname)"
   ]
  },
  {
   "cell_type": "code",
   "execution_count": 16,
   "metadata": {},
   "outputs": [
    {
     "data": {
      "text/plain": [
       "Text(0.5, 1.0, 'Abstrakt')"
      ]
     },
     "execution_count": 16,
     "metadata": {},
     "output_type": "execute_result"
    },
    {
     "data": {
      "image/png": "[encoded data removed]",
      "text/plain": [
       "<Figure size 360x360 with 1 Axes>"
      ]
     },
     "metadata": {
      "needs_background": "light"
     },
     "output_type": "display_data"
    }
   ],
   "source": [
    "### barplot aggregated by g\n",
    "g = sns.catplot(x='g', y='quality_value', data=d, kind='bar', color='#3182bd',\n",
    "            ci='sd')\n",
    "g.set_ylabels('Quality')\n",
    "g.set_xlabels('Gamma')\n",
    "g.set(ylim = (-3, 3))\n",
    "plt.title(picname)"
   ]
  },
  {
   "cell_type": "code",
   "execution_count": 45,
   "metadata": {},
   "outputs": [
    {
     "data": {
      "text/plain": [
       "<seaborn.axisgrid.FacetGrid at 0x7f84edc2e6a0>"
      ]
     },
     "execution_count": 45,
     "metadata": {},
     "output_type": "execute_result"
    },
    {
     "data": {
      "image/png": "[encoded data removed]",
      "text/plain": [
       "<Figure size 503.65x360 with 1 Axes>"
      ]
     },
     "metadata": {
      "needs_background": "light"
     },
     "output_type": "display_data"
    }
   ],
   "source": [
    "#### barplot aggregated by k and g\n",
    "g = sns.catplot(x='intensity', y='response_i', data=d, hue='filter',\n",
    "                col='name', kind='bar', ci='sd',\n",
    "                palette='Greens')\n",
    "g.set_ylabels('Intensity')\n",
    "g.set_xlabels('Selected Intensity')\n",
    "#g.set(ylim = (-3, 3))\n",
    "#g.savefig('%s.pdf' % picname)"
   ]
  },
  {
   "cell_type": "code",
   "execution_count": 18,
   "metadata": {},
   "outputs": [
    {
     "data": {
      "text/plain": [
       "<seaborn.axisgrid.FacetGrid at 0x7f466a3ffeb0>"
      ]
     },
     "execution_count": 18,
     "metadata": {},
     "output_type": "execute_result"
    },
    {
     "data": {
      "image/png": "[encoded data removed]",
      "text/plain": [
       "<Figure size 456.15x360 with 1 Axes>"
      ]
     },
     "metadata": {
      "needs_background": "light"
     },
     "output_type": "display_data"
    }
   ],
   "source": [
    "# a line plot instead of a barplot... for that we call the function relplot() (rel: relationship)\n",
    "g = sns.relplot(x='k', y='quality_value', data=d, hue='g',\n",
    "                col='picture', kind='line', ci='sd',\n",
    "                palette='Greens')\n",
    "g.set_ylabels('Quality')\n",
    "g.set_xlabels('Kontrast')\n",
    "g.set(ylim = (-3, 3))\n",
    "#g.savefig('%s.pdf' % picname)"
   ]
  },
  {
   "cell_type": "markdown",
   "metadata": {},
   "source": [
    "## Visualizing data from all pictures"
   ]
  },
  {
   "cell_type": "code",
   "execution_count": 19,
   "metadata": {},
   "outputs": [
    {
     "data": {
      "text/plain": [
       "<seaborn.axisgrid.FacetGrid at 0x7f466a3b1e20>"
      ]
     },
     "execution_count": 19,
     "metadata": {},
     "output_type": "execute_result"
    },
    {
     "data": {
      "image/png": "[encoded data removed]",
      "text/plain": [
       "<Figure size 960.15x1440 with 15 Axes>"
      ]
     },
     "metadata": {
      "needs_background": "light"
     },
     "output_type": "display_data"
    }
   ],
   "source": [
    "# %%  Using small multiples to visualize data from all pictures in one figure \n",
    "g = sns.catplot(x='k', y='quality_value', data=df, hue='g',\n",
    "                col='picture', col_wrap = 3, kind='bar', ci='sd', height=4,\n",
    "                palette='Greens')\n",
    "g.set_ylabels('Quality')\n",
    "g.set_xlabels('Kontrast')\n",
    "g.set_titles('{col_name}')\n",
    "g.set(ylim = (-3, 3))\n",
    "#g.savefig('allpictures_in_different_panels.pdf')\n"
   ]
  },
  {
   "cell_type": "code",
   "execution_count": 20,
   "metadata": {},
   "outputs": [
    {
     "data": {
      "image/png": "[encoded data removed]",
      "text/plain": [
       "<Figure size 456.15x360 with 1 Axes>"
      ]
     },
     "metadata": {
      "needs_background": "light"
     },
     "output_type": "display_data"
    }
   ],
   "source": [
    "# %% collapsing all pictures into one visualization\n",
    "g = sns.catplot(x='k', y='quality_value', data=df, hue='g',\n",
    "                kind='bar', ci='sd', errwidth=2,\n",
    "                palette='Greens')\n",
    "g.set_ylabels('Quality')\n",
    "g.set_xlabels('Kontrast')\n",
    "g.set(ylim = (-3, 3))\n",
    "plt.title('all pictures aggregated')\n",
    "g.savefig('allpictures_aggregated.pdf')\n",
    "\n"
   ]
  },
  {
   "cell_type": "markdown",
   "metadata": {},
   "source": [
    "## Some statistical analysis"
   ]
  },
  {
   "cell_type": "code",
   "execution_count": 21,
   "metadata": {},
   "outputs": [],
   "source": [
    "# we load scipy\n",
    "import scipy"
   ]
  },
  {
   "cell_type": "markdown",
   "metadata": {},
   "source": [
    "### t-test \n",
    "With a t-test we can test whether the values of two groups have the same mean. The null-hypothesis states that the mean difference between the two samples is zero. \n",
    "The test gives us a 'p-value', the conditional probability for the observed difference between means under the assumption (condition) that the null-hypothesis is true. When the p-value is smaller than a criterion value (0.05 for 95 % confidence by convention), we say we *reject* the null-hypothesis. In other words, a p value <.05 indicates that the difference between the two samples is unlikely to be truly zero."
   ]
  },
  {
   "cell_type": "code",
   "execution_count": 22,
   "metadata": {},
   "outputs": [
    {
     "data": {
      "text/html": [
       "<div>\n",
       "<style scoped>\n",
       "    .dataframe tbody tr th:only-of-type {\n",
       "        vertical-align: middle;\n",
       "    }\n",
       "\n",
       "    .dataframe tbody tr th {\n",
       "        vertical-align: top;\n",
       "    }\n",
       "\n",
       "    .dataframe thead th {\n",
       "        text-align: right;\n",
       "    }\n",
       "</style>\n",
       "<table border=\"1\" class=\"dataframe\">\n",
       "  <thead>\n",
       "    <tr style=\"text-align: right;\">\n",
       "      <th></th>\n",
       "      <th>k</th>\n",
       "      <th>g</th>\n",
       "      <th>picture</th>\n",
       "      <th>brightness</th>\n",
       "      <th>quality_value</th>\n",
       "    </tr>\n",
       "  </thead>\n",
       "  <tbody>\n",
       "    <tr>\n",
       "      <th>7</th>\n",
       "      <td>0.5</td>\n",
       "      <td>0.75</td>\n",
       "      <td>Detailarm</td>\n",
       "      <td>195.980923</td>\n",
       "      <td>-2.45</td>\n",
       "    </tr>\n",
       "    <tr>\n",
       "      <th>11</th>\n",
       "      <td>0.5</td>\n",
       "      <td>1.50</td>\n",
       "      <td>DunkelRaum</td>\n",
       "      <td>84.542856</td>\n",
       "      <td>-1.05</td>\n",
       "    </tr>\n",
       "    <tr>\n",
       "      <th>12</th>\n",
       "      <td>0.5</td>\n",
       "      <td>0.75</td>\n",
       "      <td>Einfarbig</td>\n",
       "      <td>214.433419</td>\n",
       "      <td>-2.16</td>\n",
       "    </tr>\n",
       "    <tr>\n",
       "      <th>22</th>\n",
       "      <td>0.5</td>\n",
       "      <td>1.25</td>\n",
       "      <td>DunkelStadt</td>\n",
       "      <td>57.461933</td>\n",
       "      <td>-2.80</td>\n",
       "    </tr>\n",
       "    <tr>\n",
       "      <th>25</th>\n",
       "      <td>0.5</td>\n",
       "      <td>0.75</td>\n",
       "      <td>Abstrakt</td>\n",
       "      <td>37.192704</td>\n",
       "      <td>-1.21</td>\n",
       "    </tr>\n",
       "    <tr>\n",
       "      <th>...</th>\n",
       "      <td>...</td>\n",
       "      <td>...</td>\n",
       "      <td>...</td>\n",
       "      <td>...</td>\n",
       "      <td>...</td>\n",
       "    </tr>\n",
       "    <tr>\n",
       "      <th>331</th>\n",
       "      <td>0.5</td>\n",
       "      <td>1.00</td>\n",
       "      <td>HellFace</td>\n",
       "      <td>207.936104</td>\n",
       "      <td>-2.70</td>\n",
       "    </tr>\n",
       "    <tr>\n",
       "      <th>333</th>\n",
       "      <td>0.5</td>\n",
       "      <td>1.00</td>\n",
       "      <td>Kontrastreich</td>\n",
       "      <td>128.555497</td>\n",
       "      <td>-2.06</td>\n",
       "    </tr>\n",
       "    <tr>\n",
       "      <th>334</th>\n",
       "      <td>0.5</td>\n",
       "      <td>1.25</td>\n",
       "      <td>HellRaum</td>\n",
       "      <td>181.237005</td>\n",
       "      <td>-2.13</td>\n",
       "    </tr>\n",
       "    <tr>\n",
       "      <th>357</th>\n",
       "      <td>0.5</td>\n",
       "      <td>0.75</td>\n",
       "      <td>HellStrand</td>\n",
       "      <td>174.530515</td>\n",
       "      <td>-2.22</td>\n",
       "    </tr>\n",
       "    <tr>\n",
       "      <th>358</th>\n",
       "      <td>0.5</td>\n",
       "      <td>1.00</td>\n",
       "      <td>HellRaum</td>\n",
       "      <td>181.237005</td>\n",
       "      <td>-2.04</td>\n",
       "    </tr>\n",
       "  </tbody>\n",
       "</table>\n",
       "<p>75 rows × 5 columns</p>\n",
       "</div>"
      ],
      "text/plain": [
       "       k     g        picture  brightness  quality_value\n",
       "7    0.5  0.75      Detailarm  195.980923          -2.45\n",
       "11   0.5  1.50     DunkelRaum   84.542856          -1.05\n",
       "12   0.5  0.75      Einfarbig  214.433419          -2.16\n",
       "22   0.5  1.25    DunkelStadt   57.461933          -2.80\n",
       "25   0.5  0.75       Abstrakt   37.192704          -1.21\n",
       "..   ...   ...            ...         ...            ...\n",
       "331  0.5  1.00       HellFace  207.936104          -2.70\n",
       "333  0.5  1.00  Kontrastreich  128.555497          -2.06\n",
       "334  0.5  1.25       HellRaum  181.237005          -2.13\n",
       "357  0.5  0.75     HellStrand  174.530515          -2.22\n",
       "358  0.5  1.00       HellRaum  181.237005          -2.04\n",
       "\n",
       "[75 rows x 5 columns]"
      ]
     },
     "execution_count": 22,
     "metadata": {},
     "output_type": "execute_result"
    }
   ],
   "source": [
    "# we select the data we want to compare. We select the data for k=0.5 and k=1.5 \n",
    "# and assign them to two vectors, y1 and y2\n",
    "k1 = df[df['k']==0.5]\n",
    "k2 = df[df['k']==1.0]\n",
    "\n",
    "k1\n",
    "#k1['quality_value']\n"
   ]
  },
  {
   "cell_type": "code",
   "execution_count": 23,
   "metadata": {},
   "outputs": [
    {
     "name": "stdout",
     "output_type": "stream",
     "text": [
      "p-value: 2.606247110907521e-21\n"
     ]
    }
   ],
   "source": [
    "# we call a t-test for two independent samples \n",
    "tstat, pvalue = scipy.stats.ttest_ind(k1['quality_value'], \n",
    "                                      k2['quality_value']) \n",
    "\n",
    "print('p-value:', pvalue)"
   ]
  },
  {
   "cell_type": "markdown",
   "metadata": {},
   "source": [
    "The p-value is << 0.05, so we reject the null hypothesis and say that the difference is significant."
   ]
  },
  {
   "cell_type": "markdown",
   "metadata": {},
   "source": [
    "### ANOVA\n",
    "If we want to compare the means of more than 2 groups, we need to perform an Analysis of Variance (ANOVA). The null-hypothesis in the ANOVA states that there is no difference between the means of the groups. A p-value less than 0.05 (at 95 %) rejects this general hypothesis without indicating which groups are different from one another."
   ]
  },
  {
   "cell_type": "code",
   "execution_count": 24,
   "metadata": {},
   "outputs": [],
   "source": [
    "# for an ANOVA we need the python module statsmodels (statistical models)\n",
    "import statsmodels.api as sm  \n",
    "\n",
    "# the particular function we need is called ols()\n",
    "# (ols: ordinary least squares, that is the type of fitting)\n",
    "from statsmodels.formula.api import ols   "
   ]
  },
  {
   "cell_type": "code",
   "execution_count": 25,
   "metadata": {},
   "outputs": [
    {
     "data": {
      "text/html": [
       "<div>\n",
       "<style scoped>\n",
       "    .dataframe tbody tr th:only-of-type {\n",
       "        vertical-align: middle;\n",
       "    }\n",
       "\n",
       "    .dataframe tbody tr th {\n",
       "        vertical-align: top;\n",
       "    }\n",
       "\n",
       "    .dataframe thead th {\n",
       "        text-align: right;\n",
       "    }\n",
       "</style>\n",
       "<table border=\"1\" class=\"dataframe\">\n",
       "  <thead>\n",
       "    <tr style=\"text-align: right;\">\n",
       "      <th></th>\n",
       "      <th>df</th>\n",
       "      <th>sum_sq</th>\n",
       "      <th>mean_sq</th>\n",
       "      <th>F</th>\n",
       "      <th>PR(&gt;F)</th>\n",
       "    </tr>\n",
       "  </thead>\n",
       "  <tbody>\n",
       "    <tr>\n",
       "      <th>C(k)</th>\n",
       "      <td>4.0</td>\n",
       "      <td>121.098479</td>\n",
       "      <td>30.274620</td>\n",
       "      <td>40.554424</td>\n",
       "      <td>6.241619e-28</td>\n",
       "    </tr>\n",
       "    <tr>\n",
       "      <th>C(g)</th>\n",
       "      <td>4.0</td>\n",
       "      <td>59.353084</td>\n",
       "      <td>14.838271</td>\n",
       "      <td>19.876634</td>\n",
       "      <td>9.159041e-15</td>\n",
       "    </tr>\n",
       "    <tr>\n",
       "      <th>Residual</th>\n",
       "      <td>351.0</td>\n",
       "      <td>262.027924</td>\n",
       "      <td>0.746518</td>\n",
       "      <td>NaN</td>\n",
       "      <td>NaN</td>\n",
       "    </tr>\n",
       "  </tbody>\n",
       "</table>\n",
       "</div>"
      ],
      "text/plain": [
       "             df      sum_sq    mean_sq          F        PR(>F)\n",
       "C(k)        4.0  121.098479  30.274620  40.554424  6.241619e-28\n",
       "C(g)        4.0   59.353084  14.838271  19.876634  9.159041e-15\n",
       "Residual  351.0  262.027924   0.746518        NaN           NaN"
      ]
     },
     "execution_count": 25,
     "metadata": {},
     "output_type": "execute_result"
    }
   ],
   "source": [
    "# we need to set up a 'formula' for the model. This formula is similar to the syntax in R.\n",
    "\n",
    "# on the left side of the tilde we put the dependent variable\n",
    "# on the right side of the tilde we state the independent variables \n",
    "# the C( )  indicates that we consider the variable as a categorical variable (and not continuous)\n",
    "# the sign + is not a sum, it is to indicate more than one variable.\n",
    "# the sign * is not a multiplication, it is to indicate we want to also model interactions between the variables\n",
    "\n",
    "# we call ols() passing the model 'formula'\n",
    "mod = ols('quality_value ~ C(k) + C(g)', data=df)\n",
    "\n",
    "# we fit the model\n",
    "fit = mod.fit()\n",
    "\n",
    "# we show the ANOVA table\n",
    "sm.stats.anova_lm(fit)"
   ]
  },
  {
   "cell_type": "markdown",
   "metadata": {},
   "source": [
    "The ANOVA table shows that for both variables k and g there is a signifficant effect (p-values < 0.05 for 95 % confidence). There is also a signifficant interaction term ('C(k):C(g)').\n",
    "\n",
    "\n",
    "The p-values reject the null hypothesis, meaning that there is a significant difference between the means. But which ones? To answer that we need to perform a so-called post-hoc test. "
   ]
  },
  {
   "cell_type": "markdown",
   "metadata": {},
   "source": [
    "Post-hoc tests do all the pairwise comparisons (like a t-test), but correcting the p-value for multiple comparisons. This correction is needed because of statistical reasons. The risk of not correcting is that we will be detecting differences that are not there. (https://en.wikipedia.org/wiki/Multiple_comparisons_problem)."
   ]
  },
  {
   "cell_type": "code",
   "execution_count": 26,
   "metadata": {},
   "outputs": [
    {
     "data": {
      "text/html": [
       "<table class=\"simpletable\">\n",
       "<caption>Test Multiple Comparison ttest_ind \n",
       "FWER=0.05 method=bonf\n",
       "alphacSidak=0.01, alphacBonf=0.005</caption>\n",
       "<tr>\n",
       "  <th>group1</th> <th>group2</th>   <th>stat</th>    <th>pval</th>  <th>pval_corr</th> <th>reject</th>\n",
       "</tr>\n",
       "<tr>\n",
       "    <td>0.5</td>   <td>0.75</td>   <td>-9.0713</td>   <td>0.0</td>     <td>0.0</td>     <td>True</td> \n",
       "</tr>\n",
       "<tr>\n",
       "    <td>0.5</td>    <td>1.0</td>   <td>-11.355</td>   <td>0.0</td>     <td>0.0</td>     <td>True</td> \n",
       "</tr>\n",
       "<tr>\n",
       "    <td>0.5</td>   <td>1.25</td>  <td>-11.0697</td>   <td>0.0</td>     <td>0.0</td>     <td>True</td> \n",
       "</tr>\n",
       "<tr>\n",
       "    <td>0.5</td>    <td>1.5</td>   <td>-7.3893</td>   <td>0.0</td>     <td>0.0</td>     <td>True</td> \n",
       "</tr>\n",
       "<tr>\n",
       "   <td>0.75</td>    <td>1.0</td>   <td>-4.4619</td>   <td>0.0</td>   <td>0.0002</td>    <td>True</td> \n",
       "</tr>\n",
       "<tr>\n",
       "   <td>0.75</td>   <td>1.25</td>   <td>-4.9838</td>   <td>0.0</td>     <td>0.0</td>     <td>True</td> \n",
       "</tr>\n",
       "<tr>\n",
       "   <td>0.75</td>    <td>1.5</td>   <td>-1.6373</td> <td>0.1037</td>    <td>1.0</td>     <td>False</td>\n",
       "</tr>\n",
       "<tr>\n",
       "    <td>1.0</td>   <td>1.25</td>   <td>-0.6897</td> <td>0.4916</td>    <td>1.0</td>     <td>False</td>\n",
       "</tr>\n",
       "<tr>\n",
       "    <td>1.0</td>    <td>1.5</td>   <td>1.9879</td>  <td>0.0489</td>  <td>0.4888</td>    <td>False</td>\n",
       "</tr>\n",
       "<tr>\n",
       "   <td>1.25</td>    <td>1.5</td>   <td>2.6678</td>  <td>0.0085</td>  <td>0.0849</td>    <td>False</td>\n",
       "</tr>\n",
       "</table>"
      ],
      "text/plain": [
       "<class 'statsmodels.iolib.table.SimpleTable'>"
      ]
     },
     "execution_count": 26,
     "metadata": {},
     "output_type": "execute_result"
    }
   ],
   "source": [
    "# perform multiple pairwise comparison\n",
    "from statsmodels.stats.multicomp import MultiComparison\n",
    "\n",
    "MultiComp = MultiComparison(df['quality_value'],\n",
    "                             df['k'])\n",
    "\n",
    "# the first argument is the test we will do, a t-test (same function as above)\n",
    "# the second argument is the type of correction, in this case Bonferroni correction.\n",
    "comp = MultiComp.allpairtest(scipy.stats.ttest_ind, method='bonf')\n",
    "comp[0]\n"
   ]
  },
  {
   "cell_type": "markdown",
   "metadata": {},
   "source": [
    "The table shows all comparisons for k. The rightmost column says whether there is a significant difference between the groups tested (reject = True)."
   ]
  }
 ],
 "metadata": {
  "kernelspec": {
   "display_name": "Python 3",
   "language": "python",
   "name": "python3"
  },
  "language_info": {
   "codemirror_mode": {
    "name": "ipython",
    "version": 3
   },
   "file_extension": ".py",
   "mimetype": "text/x-python",
   "name": "python",
   "nbconvert_exporter": "python",
   "pygments_lexer": "ipython3",
   "version": "3.8.5"
  }
 },
 "nbformat": 4,
 "nbformat_minor": 5
}
